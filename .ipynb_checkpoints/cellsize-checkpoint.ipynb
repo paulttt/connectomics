{
 "cells": [
  {
   "cell_type": "code",
   "execution_count": 246,
   "metadata": {},
   "outputs": [
    {
     "name": "stdout",
     "output_type": "stream",
     "text": [
      "(251, 650, 1414)\n"
     ]
    }
   ],
   "source": [
    "from skimage import io\n",
    "import numpy as np\n",
    "from imageio import volread,volwrite\n",
    "import matplotlib.pyplot as plt\n",
    "\n",
    "segmentation = io.imread('40kV_DR_reslice_180deg_ROI_8bits_z300z550_cp_masks.tif')\n",
    "sz = seg.shape\n",
    "print(sz)"
   ]
  },
  {
   "cell_type": "code",
   "execution_count": 247,
   "metadata": {},
   "outputs": [],
   "source": [
    "unique_elements,counts_elements = np.unique(segmentation,return_counts=True)"
   ]
  },
  {
   "cell_type": "code",
   "execution_count": 248,
   "metadata": {},
   "outputs": [
    {
     "name": "stdout",
     "output_type": "stream",
     "text": [
      "Frequency of unique values of the said array:\n",
      "[[        0         1         2 ...     51617     51618     51619]\n",
      " [157813867        30       125 ...       209        50       170]]\n"
     ]
    }
   ],
   "source": [
    "print(\"Frequency of unique values of the said array:\")\n",
    "print(np.asarray((unique_elements, counts_elements)))"
   ]
  },
  {
   "cell_type": "code",
   "execution_count": 249,
   "metadata": {},
   "outputs": [
    {
     "data": {
      "image/png": "[encoded data removed]",
      "text/plain": [
       "<Figure size 432x288 with 1 Axes>"
      ]
     },
     "metadata": {
      "needs_background": "light"
     },
     "output_type": "display_data"
    }
   ],
   "source": [
    "counts_elementstemp=counts_elements\n",
    "plt.hist(counts_elementstemp, bins=500,range=[1, 6000])\n",
    "plt.show()"
   ]
  },
  {
   "cell_type": "code",
   "execution_count": 252,
   "metadata": {},
   "outputs": [
    {
     "data": {
      "text/plain": [
       "(array([    0,   582,  2698,  3698,  4829,  5457,  7513,  7614,  8195,\n",
       "        11666, 22284, 22720, 23008, 23563, 24580, 25585, 27429, 29478,\n",
       "        31677, 34198, 36409, 38135, 38433, 38704, 39117, 40855, 41313,\n",
       "        41765, 42640, 43423, 43441, 43529, 43674, 43767, 44441, 44560,\n",
       "        49326, 49726], dtype=int64),)"
      ]
     },
     "execution_count": 252,
     "metadata": {},
     "output_type": "execute_result"
    }
   ],
   "source": [
    "toolarge = np.where(counts_elements > 5000)\n",
    "toosmall = np.where(counts_elements < 500)\n",
    "#900 is equivalent to a 6pixel radius\n",
    "np.size(toolarge)\n",
    "toolarge"
   ]
  },
  {
   "cell_type": "code",
   "execution_count": 256,
   "metadata": {},
   "outputs": [],
   "source": [
    "all_discarded = np.concatenate((toosmall, toolarge), axis=1)\n",
    "#Slow\n",
    "# for idx in np.nditer(toolarge):\n",
    "#     seg=np.where(seg==idx,0,seg) \n",
    "#     print(idx)\n",
    "#Fast\n",
    "# seg_test = np.where(~np.isin(seg, toosmall), seg,0)\n",
    "# seg_test_2 = np.where(~np.isin(seg, toolarge), seg_test,0)\n",
    "\n",
    "#Faster\n",
    "seg_cutOff = np.where(~np.isin(segmentation, all_discarded), seg,0)"
   ]
  },
  {
   "cell_type": "code",
   "execution_count": 257,
   "metadata": {},
   "outputs": [
    {
     "name": "stdout",
     "output_type": "stream",
     "text": [
      "[[        0        13        19 ...     51594     51597     51608]\n",
      " [160469300       510       685 ...       908       570       554]]\n"
     ]
    },
    {
     "data": {
      "image/png": "[encoded data removed]",
      "text/plain": [
       "<Figure size 432x288 with 1 Axes>"
      ]
     },
     "metadata": {
      "needs_background": "light"
     },
     "output_type": "display_data"
    }
   ],
   "source": [
    "unique_elements,counts_elements = np.unique(seg_cutOff,return_counts=True)\n",
    "print(np.asarray((unique_elements, counts_elements)))\n",
    "plt.hist(counts_elements, bins=500,range=[1, 10000])\n",
    "plt.show()"
   ]
  },
  {
   "cell_type": "code",
   "execution_count": 258,
   "metadata": {},
   "outputs": [],
   "source": [
    "from imageio import volread,volwrite\n",
    "volwrite('40kV_DR_reslice_180deg_ROI_8bits_z300z550_cp_masks_cutOff.tif', seg_cutOff)"
   ]
  },
  {
   "cell_type": "code",
   "execution_count": null,
   "metadata": {},
   "outputs": [],
   "source": []
  }
 ],
 "metadata": {
  "kernelspec": {
   "display_name": "Python 3",
   "language": "python",
   "name": "python3"
  },
  "language_info": {
   "codemirror_mode": {
    "name": "ipython",
    "version": 3
   },
   "file_extension": ".py",
   "mimetype": "text/x-python",
   "name": "python",
   "nbconvert_exporter": "python",
   "pygments_lexer": "ipython3",
   "version": "3.8.5"
  }
 },
 "nbformat": 4,
 "nbformat_minor": 4
}
