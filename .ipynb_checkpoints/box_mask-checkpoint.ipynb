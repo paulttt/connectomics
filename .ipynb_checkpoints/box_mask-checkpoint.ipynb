{
 "cells": [
  {
   "cell_type": "code",
   "execution_count": 59,
   "metadata": {},
   "outputs": [],
   "source": [
    "from skimage import io\n",
    "import numpy as np\n",
    "import matplotlib.pyplot as plt\n",
    "from tifffile import imwrite\n",
    "\n",
    "#change your local path here:\n",
    "path = 'data/twophoton/overview_stack_green_gauss45_gamma70.tif'\n",
    "\n",
    "volume = io.imread(path)"
   ]
  },
  {
   "cell_type": "code",
   "execution_count": 60,
   "metadata": {
    "scrolled": false
   },
   "outputs": [
    {
     "data": {
      "text/plain": [
       "<matplotlib.image.AxesImage at 0x7f8056d0fac0>"
      ]
     },
     "execution_count": 60,
     "metadata": {},
     "output_type": "execute_result"
    },
    {
     "data": {
      "image/png": "[encoded data removed]",
      "text/plain": [
       "<Figure size 432x288 with 1 Axes>"
      ]
     },
     "metadata": {
      "needs_background": "light"
     },
     "output_type": "display_data"
    }
   ],
   "source": [
    "width = 25\n",
    "height = 25\n",
    "depth = 50\n",
    "\n",
    "# change your coordinates here\n",
    "x_start = 430\n",
    "y_start = 560 \n",
    "z_start = 0\n",
    "\n",
    "box_mask = np.zeros(volume.shape)\n",
    "box_mask[z_start:z_start+depth, x_start:x_start+width, y_start:y_start+height] = 1\n",
    "plt.imshow(box_mask[0])"
   ]
  },
  {
   "cell_type": "code",
   "execution_count": 74,
   "metadata": {},
   "outputs": [],
   "source": [
    "from PIL import Image\n",
    "import os\n",
    "import matplotlib.cm as cm\n",
    "import cv2\n",
    "import scipy.misc\n",
    "\n",
    "#dir_path = os.path.abspath(os.getcwd())\n",
    "\n",
    "for i in range(depth-1):\n",
    "    im = Image.fromarray(box_mask[i].astype(np.uint8), mode=\"L\")\n",
    "    #print(im)\n",
    "    #fname = '/data/twophoton/box_mask/slice_{:02d}.png'.format(i)\n",
    "    #path = os.path.join(dir_path, fname)\n",
    "    im.save('slice_{:02d}.png'.format(i), 'PNG')\n"
   ]
  },
  {
   "cell_type": "code",
   "execution_count": 55,
   "metadata": {},
   "outputs": [
    {
     "name": "stdout",
     "output_type": "stream",
     "text": [
      "/mnt/c/Users/Paul/Documents/scripts\n"
     ]
    }
   ],
   "source": [
    "print(os.path.abspath(os.getcwd()))"
   ]
  },
  {
   "cell_type": "code",
   "execution_count": 46,
   "metadata": {},
   "outputs": [
    {
     "data": {
      "text/plain": [
       "'/mnt/c/Users/Paul/Documents/scripts'"
      ]
     },
     "execution_count": 46,
     "metadata": {},
     "output_type": "execute_result"
    }
   ],
   "source": []
  },
  {
   "cell_type": "code",
   "execution_count": null,
   "metadata": {},
   "outputs": [],
   "source": []
  }
 ],
 "metadata": {
  "kernelspec": {
   "display_name": "Python 3",
   "language": "python",
   "name": "python3"
  },
  "language_info": {
   "codemirror_mode": {
    "name": "ipython",
    "version": 3
   },
   "file_extension": ".py",
   "mimetype": "text/x-python",
   "name": "python",
   "nbconvert_exporter": "python",
   "pygments_lexer": "ipython3",
   "version": "3.8.5"
  }
 },
 "nbformat": 4,
 "nbformat_minor": 4
}
