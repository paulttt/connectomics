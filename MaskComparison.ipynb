{
 "cells": [
  {
   "cell_type": "code",
   "execution_count": 1,
   "metadata": {},
   "outputs": [],
   "source": [
    "import numpy as np\n",
    "from skimage import io\n",
    "import glob\n",
    "from skimage import measure\n",
    "import pandas as pd\n",
    "import matplotlib.pyplot as plt\n",
    "import tifffile\n",
    "import sys\n",
    "import math\n",
    "import pdb"
   ]
  },
  {
   "cell_type": "code",
   "execution_count": null,
   "metadata": {},
   "outputs": [
    {
     "name": "stdout",
     "output_type": "stream",
     "text": [
      "--Call--\n",
      "> \u001b[0;32m/Users/Paul/anaconda3/envs/py38/lib/python3.8/site-packages/IPython/core/displayhook.py\u001b[0m(252)\u001b[0;36m__call__\u001b[0;34m()\u001b[0m\n",
      "\u001b[0;32m    250 \u001b[0;31m        \u001b[0msys\u001b[0m\u001b[0;34m.\u001b[0m\u001b[0mstdout\u001b[0m\u001b[0;34m.\u001b[0m\u001b[0mflush\u001b[0m\u001b[0;34m(\u001b[0m\u001b[0;34m)\u001b[0m\u001b[0;34m\u001b[0m\u001b[0;34m\u001b[0m\u001b[0m\n",
      "\u001b[0m\u001b[0;32m    251 \u001b[0;31m\u001b[0;34m\u001b[0m\u001b[0m\n",
      "\u001b[0m\u001b[0;32m--> 252 \u001b[0;31m    \u001b[0;32mdef\u001b[0m \u001b[0m__call__\u001b[0m\u001b[0;34m(\u001b[0m\u001b[0mself\u001b[0m\u001b[0;34m,\u001b[0m \u001b[0mresult\u001b[0m\u001b[0;34m=\u001b[0m\u001b[0;32mNone\u001b[0m\u001b[0;34m)\u001b[0m\u001b[0;34m:\u001b[0m\u001b[0;34m\u001b[0m\u001b[0;34m\u001b[0m\u001b[0m\n",
      "\u001b[0m\u001b[0;32m    253 \u001b[0;31m        \"\"\"Printing with history cache management.\n",
      "\u001b[0m\u001b[0;32m    254 \u001b[0;31m\u001b[0;34m\u001b[0m\u001b[0m\n",
      "\u001b[0m\n",
      "ipdb> u\n",
      "> \u001b[0;32m<ipython-input-2-54799d9a0260>\u001b[0m(1)\u001b[0;36m<module>\u001b[0;34m()\u001b[0m\n",
      "\u001b[0;32m----> 1 \u001b[0;31m\u001b[0mpdb\u001b[0m\u001b[0;34m.\u001b[0m\u001b[0mset_trace\u001b[0m\u001b[0;34m(\u001b[0m\u001b[0;34m)\u001b[0m\u001b[0;34m\u001b[0m\u001b[0;34m\u001b[0m\u001b[0m\n",
      "\u001b[0m\n",
      "ipdb> u\n",
      "*** all frames above hidden\n",
      "ipdb> u\n",
      "*** all frames above hidden\n",
      "ipdb> u\n",
      "*** all frames above hidden\n",
      "ipdb> u\n",
      "*** all frames above hidden\n"
     ]
    }
   ],
   "source": [
    "pdb.set_trace()"
   ]
  },
  {
   "cell_type": "code",
   "execution_count": 2,
   "metadata": {},
   "outputs": [],
   "source": [
    "def create_tiff_stack(name, path):\n",
    "    with tifffile.TiffWriter(name) as stack:\n",
    "        for filename in glob.glob(path + '/*.tif'):\n",
    "            stack.save(\n",
    "                tifffile.imread(filename), \n",
    "                photometric='minisblack', \n",
    "                contiguous=True\n",
    "                )\n",
    "create_tiff_stack(name='box6_seg.tif', path='data/x-ray/boxes/box6_JBW/masks_export')\n",
    "create_tiff_stack(name='box6_vol.tif', path='data/x-ray/boxes/box6_JBW/volume')\n",
    "create_tiff_stack(name='box6_stardist.tif', path='data/x-ray/boxes/box6_JBW/masks')\n",
    "\n",
    "create_tiff_stack(name='box2_seg.tif', path='data/x-ray/boxes/box2_PT/masks_export')\n",
    "create_tiff_stack(name='box2_vol.tif', path='data/x-ray/boxes/box2_PT/volume')\n",
    "create_tiff_stack(name='box2_stardist.tif', path='data/x-ray/boxes/box2_PT/masks')\n",
    "\n",
    "create_tiff_stack(name='box3_seg.tif', path='data/x-ray/boxes/box3_MM/masks_export')\n",
    "create_tiff_stack(name='box3_vol.tif', path='data/x-ray/boxes/box3_MM/em')\n",
    "create_tiff_stack(name='box3_stardist.tif', path='data/x-ray/boxes/box3_MM/masks')\n",
    "\n",
    "create_tiff_stack(name='box4_seg.tif', path='data/x-ray/boxes/box4_DL/masks_export')\n",
    "create_tiff_stack(name='box4_vol.tif', path='data/x-ray/boxes/box4_DL/em')\n",
    "create_tiff_stack(name='box4_stardist.tif', path='data/x-ray/boxes/box4_DL/masks')\n",
    "\n",
    "create_tiff_stack(name='box5_seg.tif', path='data/x-ray/boxes/box5_RM/masks_export')\n",
    "create_tiff_stack(name='box5_vol.tif', path='data/x-ray/boxes/box5_RM/em')\n",
    "create_tiff_stack(name='box5_stardist.tif', path='data/x-ray/boxes/box5_RM/masks')"
   ]
  },
  {
   "cell_type": "code",
   "execution_count": null,
   "metadata": {},
   "outputs": [],
   "source": [
    "#file root\n",
    "file_root = 'x-ray-boxes/'\n",
    "\n",
    "#volume_JBW = io.imread('box6_vol.tif')\n",
    "seg_JBW = io.imread(file_root+'box6_seg.tif')\n",
    "seg_JBW_stardist = io.imread(file_root+'box6_stardist.tif')\n",
    "\n",
    "#volume_PT = io.imread('box2_vol.tif')\n",
    "seg_PT = io.imread(file_root+'box2_seg.tif')\n",
    "seg_PT_stardist = io.imread(file_root+'box2_stardist.tif')\n",
    "\n",
    "#volume_MM = io.imread('box3_vol.tif')\n",
    "seg_MM = io.imread(file_root+'box3_seg.tif')\n",
    "seg_MM_stardist = io.imread(file_root+'box3_stardist.tif')\n",
    "\n",
    "#volume_DL = io.imread('box4_vol.tif')\n",
    "seg_DL = io.imread(file_root+'box4_seg.tif')\n",
    "seg_DL_stardist = io.imread(file_root+'box4_stardist.tif')\n",
    "\n",
    "#volume_RM = io.imread('box5_vol.tif')\n",
    "seg_RM = io.imread(file_root+'box5_seg.tif')\n",
    "seg_RM_stardist = io.imread(file_root+'box5_stardist.tif')\n",
    "\n",
    "\n",
    "#print('volume shape: ', volume_JBW.shape)\n",
    "print('masks shape: ', seg_JBW.shape)"
   ]
  },
  {
   "cell_type": "code",
   "execution_count": 3,
   "metadata": {},
   "outputs": [],
   "source": [
    "#properties = ['label', 'centroid', 'major_axis_length', 'minor_axis_length', \n",
    "#              'mean_intensity', 'min_intensity', 'max_intensity', \n",
    "#              'area', 'moments', 'bbox']\n",
    "properties = ['label', 'centroid', 'major_axis_length', 'minor_axis_length', \n",
    "              'mean_intensity', 'min_intensity', 'max_intensity', \n",
    "              'area', 'bbox']"
   ]
  },
  {
   "cell_type": "code",
   "execution_count": 5,
   "metadata": {},
   "outputs": [],
   "source": [
    "rp_JBW = measure.regionprops_table(seg_JBW, volume_JBW, properties)\n",
    "rp_JBW_sd = measure.regionprops_table(seg_JBW_stardist, volume_JBW, properties)\n",
    "\n",
    "rp_PT = measure.regionprops_table(seg_PT, volume_PT, properties)\n",
    "rp_PT_sd = measure.regionprops_table(seg_PT_stardist, volume_PT, properties)\n",
    "\n",
    "rp_MM = measure.regionprops_table(seg_MM, volume_MM, properties)\n",
    "rp_MM_sd = measure.regionprops_table(seg_MM_stardist, volume_MM, properties)\n",
    "\n",
    "rp_DL = measure.regionprops_table(seg_DL, volume_DL, properties)\n",
    "rp_DL_sd = measure.regionprops_table(seg_DL_stardist, volume_DL, properties)\n",
    "\n",
    "rp_RM = measure.regionprops_table(seg_RM, volume_RM, properties)\n",
    "rp_RM_sd = measure.regionprops_table(seg_RM_stardist, volume_RM, properties)"
   ]
  },
  {
   "cell_type": "code",
   "execution_count": 6,
   "metadata": {},
   "outputs": [],
   "source": [
    "df_JBW = pd.DataFrame.from_dict(rp_JBW)\n",
    "df_JBW_sd = pd.DataFrame.from_dict(rp_JBW_sd)\n",
    "\n",
    "df_PT = pd.DataFrame.from_dict(rp_PT)\n",
    "df_PT_sd = pd.DataFrame.from_dict(rp_PT_sd)\n",
    "\n",
    "df_MM = pd.DataFrame.from_dict(rp_MM)\n",
    "df_MM_sd = pd.DataFrame.from_dict(rp_MM_sd)\n",
    "\n",
    "df_DL = pd.DataFrame.from_dict(rp_DL)\n",
    "df_DL_sd = pd.DataFrame.from_dict(rp_DL_sd)\n",
    "\n",
    "df_RM = pd.DataFrame.from_dict(rp_RM)\n",
    "df_RM_sd = pd.DataFrame.from_dict(rp_RM_sd)"
   ]
  },
  {
   "cell_type": "code",
   "execution_count": null,
   "metadata": {},
   "outputs": [],
   "source": [
    "def iou(pred, gt):\n",
    "    intersection = np.logical_and(pred, gt).astype(np.float32).sum()\n",
    "    union = np.logical_or(pred, gt).astype(np.float32).sum()\n",
    "    \n",
    "    if union == 0:\n",
    "        iou = 0\n",
    "    else:\n",
    "        iou = intersection / union\n",
    "    return iou"
   ]
  },
  {
   "cell_type": "code",
   "execution_count": null,
   "metadata": {},
   "outputs": [],
   "source": [
    "def add_margin_to_bbox(bbox, margin, shape):\n",
    "    temp = math.floor(bbox.shape[0]/2)\n",
    "    for i in range(math.floor(bbox.shape[0]/2)):\n",
    "        bbox[i] -= margin\n",
    "        if bbox[i] < 0:\n",
    "            bbox[i] = 0\n",
    "    for i in range(math.floor(bbox.shape[0]/2), bbox.shape[0]):\n",
    "        bbox[i] += margin\n",
    "        if bbox[i] >= shape[i-temp]:\n",
    "            bbox[i] = shape[i-temp]-1\n",
    "    return bbox"
   ]
  },
  {
   "cell_type": "code",
   "execution_count": null,
   "metadata": {},
   "outputs": [],
   "source": [
    "def find_candidates(gt, pred, gt_bbox, df_pred, margin = 0):\n",
    "    gt_bbox = add_margin_to_bbox(gt_bbox, margin, pred.shape)\n",
    "    pred_subvol = crop_volume(pred, gt_bbox)\n",
    "    values = np.unique(pred_subvol)\n",
    "    pred_labels = np.delete(values, np.where(values == 0))\n",
    "    df_pred_cand = df_pred.loc[[i for i in pred_labels]]\n",
    "    return df_pred_cand, pred_labels"
   ]
  },
  {
   "cell_type": "code",
   "execution_count": null,
   "metadata": {},
   "outputs": [],
   "source": [
    "def find_centroid_matches(centroid, df_segments, thresh):\n",
    "    label_match = []\n",
    "    distances = []\n",
    "    df_closest = pd.DataFrame(columns=df_segments.columns)\n",
    "    smallest_distance = 200000.0\n",
    "    closest_idx = -1\n",
    "    for idx, row in df_segments.iterrows():\n",
    "        \n",
    "        dist = np.linalg.norm(centroid-row['centroid'])\n",
    "        distances.append(dist)\n",
    "        if dist <= thresh:\n",
    "            label_match.append(idx)\n",
    "            if smallest_distance <= dist:\n",
    "                closest_idx = idx\n",
    "    if closest_idx >= 0:\n",
    "        df_closest = df.closest.append(df_segments.iloc[closest_idx])\n",
    "    df_match = df_segments.loc[label_match]\n",
    "    return df_match, label_match, df_closest, distances"
   ]
  },
  {
   "cell_type": "code",
   "execution_count": null,
   "metadata": {},
   "outputs": [],
   "source": [
    "def evaluate_overlap(gt, pred, gt_label, pred_label, metric='IoU'):\n",
    "    gt_bin = binarize_segment(gt, gt_label)\n",
    "    pred_bin = binarize_segment(pred, pred_label)\n",
    "    return iou(gt_bin, pred_bin)"
   ]
  },
  {
   "cell_type": "code",
   "execution_count": null,
   "metadata": {},
   "outputs": [],
   "source": [
    "def crop_volume(vol, bbox):\n",
    "    bbox = bbox.astype(int)\n",
    "    row_start = bbox[0]\n",
    "    row_end = bbox[3]\n",
    "    col_start = bbox[1]\n",
    "    col_end = bbox[4]\n",
    "    slice_start = bbox[2]\n",
    "    slice_end = bbox[5]\n",
    "    return vol[row_start:row_end, col_start:col_end, slice_start:slice_end]"
   ]
  },
  {
   "cell_type": "code",
   "execution_count": null,
   "metadata": {},
   "outputs": [],
   "source": [
    "def get_convex_bbox(bbox_1, bbox_2):\n",
    "    \"\"\"\n",
    "    computes the convex bounding box out of two given bounding boxes.\n",
    "\n",
    "    Attributes\n",
    "    ----------\n",
    "    bbox_1 : 1D np.array\n",
    "        expected to be of type [row_start, col_start, slice_start, row_end, col_end, slice_end]\n",
    "    bbox_2 : 1D np.array\n",
    "        expected to be of type [row_start, col_start, slice_start, row_end, col_end, slice_end]\n",
    "    return\n",
    "    -------\n",
    "    convex_bbox: 1D array of same shape as input\n",
    "    \"\"\"\n",
    "    assert len(bbox_1.shape) == 1 & len(bbox_2.shape) == 1, print(\"Dimensionality must be of shape 1.\")\n",
    "    assert bbox_1.shape == bbox_2.shape, print(\"bbox must be of same shapes.\")\n",
    "    convex_bbox = np.zeros(bbox_1.shape)\n",
    "    #for i in range(math.floor(bbox_1.shape[0]/2)):\n",
    "    convex_bbox[:math.ceil(bbox_1.shape[0]/2)] = np.minimum(bbox_1, bbox_2)[0:math.floor(bbox_1.shape[0]/2)]\n",
    "    #for i in range(math.floor(bbox_1.shape[0]/2), bbox_1.shape[0]):\n",
    "    convex_bbox[math.floor(bbox_1.shape[0]/2):bbox_1.shape[0]] = np.maximum(bbox_1, bbox_2)[math.floor(bbox_1.shape[0]/2):bbox_1.shape[0]]\n",
    "    return convex_bbox"
   ]
  },
  {
   "cell_type": "code",
   "execution_count": null,
   "metadata": {},
   "outputs": [],
   "source": [
    "def binarize_segment(seg, label):\n",
    "    seg_bin = np.zeros(seg.shape)\n",
    "    seg_bin[seg == label] = 1\n",
    "    return seg_bin"
   ]
  },
  {
   "cell_type": "code",
   "execution_count": null,
   "metadata": {},
   "outputs": [],
   "source": [
    "def find_segment_differences(pred, gt, centroid_thresh, iou_thresh):\n",
    "    print(sys.getsizeof(pred))\n",
    "    print(sys.getsizeof(gt))\n",
    "    properties = ['area', 'bbox', 'centroid']\n",
    "    df_gt = pd.DataFrame.from_dict(measure.regionprops_table(gt, properties=properties))\n",
    "    df_pred = pd.DataFrame.from_dict(measure.regionprops_table(pred, properties=properties))\n",
    "    df_gt['centroid'] = np.nan\n",
    "    df_pred['centroid'] = np.nan\n",
    "    df_gt['bbox'] = np.nan\n",
    "    df_pred['bbox'] = np.nan\n",
    "    df_gt['match'] = False\n",
    "    df_pred['match'] = False\n",
    "    \n",
    "    df_gt['centroid'] = df_gt.apply(lambda x: np.array([x['centroid-0'], x['centroid-1'], \n",
    "                                                        x['centroid-2']]), axis=1)\n",
    "    df_pred['centroid'] = df_pred.apply(lambda x: np.array([x['centroid-0'], x['centroid-1'], \n",
    "                                                            x['centroid-2']]), axis=1)\n",
    "    df_gt['bbox'] = df_gt.apply(lambda x: np.array([x['bbox-0'], x['bbox-1'], x['bbox-2'], \n",
    "                                                    x['bbox-3'], x['bbox-4'], x['bbox-5']]), axis=1)\n",
    "    df_pred['bbox'] = df_pred.apply(lambda x: np.array([x['bbox-0'], x['bbox-1'], x['bbox-2'], \n",
    "                                                        x['bbox-3'], x['bbox-4'], x['bbox-5']]), axis=1)\n",
    "    \n",
    "    df_gt_ext = pd.DataFrame(columns=df_gt.columns)\n",
    "    df_pred_ext = pd.DataFrame(columns=df_pred.columns)\n",
    "    \n",
    "    for idx_gt, row_gt in df_gt.iterrows():\n",
    "        match_found = False\n",
    "        df_pred_cand, pred_labels = find_candidates(gt, pred, row_gt['bbox'], df_pred, margin = 20)\n",
    "        df_match, label_match, df_closest, distances = find_centroid_matches(row_gt['centroid'], df_pred_cand, centroid_thresh)\n",
    "        iou_max = 0\n",
    "        iou_match = []\n",
    "        for idx_pred, row_pred in df_match.iterrows():\n",
    "            bbox = get_convex_bbox(row_gt['bbox'], row_pred['bbox'])\n",
    "            gt_roi = crop_volume(gt, bbox)\n",
    "            pred_roi = crop_volume(pred, bbox)\n",
    "            iou = evaluate_overlap(gt_roi, pred_roi, idx_gt+1, idx_pred+1)\n",
    "            \n",
    "            if iou >= iou_thresh:\n",
    "                iou_match.append((iou, idx_pred))\n",
    "                if iou >= iou_max:\n",
    "                    iou_max = iou\n",
    "                match_found = True\n",
    "                \n",
    "        if match_found:\n",
    "            idx_max = max(iou_match, key = lambda i : i[0])[1]\n",
    "            df_gt['match'] = True\n",
    "            df_pred['match'] = True\n",
    "            df_gt_ext = df_gt_ext.append(df_gt.loc[idx_gt], ignore_index = False)\n",
    "            df_pred_ext = df_pred_ext.append(df_pred.loc[idx_max], ignore_index = False)\n",
    "        if  not match_found:\n",
    "            df_gt_ext = df_gt_ext.append(df_gt.loc[idx_gt], ignore_index = False)\n",
    "            df_pred_ext = df_pred_ext.append({'area': 0.0, 'centroid': np.array([0.0, 0.0, 0.0]), \n",
    "                                              'match': False}, ignore_index = True)\n",
    "        \n",
    "    subframe = df_pred[df_pred['match'] == False]\n",
    "    if subframe.shape[0]>0:\n",
    "        df_pred_ext = df_pred_ext.append(subframe, ignore_index = False)\n",
    "        n_rows = subframe.shape[0]\n",
    "        df_gt_ext = df_gt_ext.append({'area': [0.0]*n_rows, 'centroid': np.array([0.0, 0.0, 0.0])*n_rows, \n",
    "                                      'match': [False]*n_rows}, ignore_index=True)            \n",
    "    return df_gt_ext, df_pred_ext"
   ]
  },
  {
   "cell_type": "code",
   "execution_count": 15,
   "metadata": {
    "scrolled": true
   },
   "outputs": [
    {
     "name": "stdout",
     "output_type": "stream",
     "text": [
      "125128\n",
      "125128\n"
     ]
    }
   ],
   "source": [
    "df_PT, df_PT_sd = find_segment_differences(seg_PT_stardist, seg_PT, centroid_thresh=10, iou_thresh=0.8)\n"
   ]
  },
  {
   "cell_type": "code",
   "execution_count": 16,
   "metadata": {},
   "outputs": [],
   "source": [
    "import pdb\n",
    "%matplotlib inline"
   ]
  },
  {
   "cell_type": "code",
   "execution_count": null,
   "metadata": {},
   "outputs": [
    {
     "name": "stdout",
     "output_type": "stream",
     "text": [
      "> \u001b[0;32m/Users/Paul/anaconda3/envs/py38/lib/python3.8/pdb.py\u001b[0m(1632)\u001b[0;36mpm\u001b[0;34m()\u001b[0m\n",
      "\u001b[0;32m   1630 \u001b[0;31m\u001b[0;34m\u001b[0m\u001b[0m\n",
      "\u001b[0m\u001b[0;32m   1631 \u001b[0;31m\u001b[0;32mdef\u001b[0m \u001b[0mpm\u001b[0m\u001b[0;34m(\u001b[0m\u001b[0;34m)\u001b[0m\u001b[0;34m:\u001b[0m\u001b[0;34m\u001b[0m\u001b[0;34m\u001b[0m\u001b[0m\n",
      "\u001b[0m\u001b[0;32m-> 1632 \u001b[0;31m    \u001b[0mpost_mortem\u001b[0m\u001b[0;34m(\u001b[0m\u001b[0msys\u001b[0m\u001b[0;34m.\u001b[0m\u001b[0mlast_traceback\u001b[0m\u001b[0;34m)\u001b[0m\u001b[0;34m\u001b[0m\u001b[0;34m\u001b[0m\u001b[0m\n",
      "\u001b[0m\u001b[0;32m   1633 \u001b[0;31m\u001b[0;34m\u001b[0m\u001b[0m\n",
      "\u001b[0m\u001b[0;32m   1634 \u001b[0;31m\u001b[0;34m\u001b[0m\u001b[0m\n",
      "\u001b[0m\n",
      "ipdb> \n",
      "ipdb> u\n",
      "> \u001b[0;32m<ipython-input-3-497882a8ebc0>\u001b[0m(1)\u001b[0;36m<module>\u001b[0;34m()\u001b[0m\n",
      "\u001b[0;32m----> 1 \u001b[0;31m\u001b[0mpdb\u001b[0m\u001b[0;34m.\u001b[0m\u001b[0mpm\u001b[0m\u001b[0;34m(\u001b[0m\u001b[0;34m)\u001b[0m\u001b[0;34m\u001b[0m\u001b[0;34m\u001b[0m\u001b[0m\n",
      "\u001b[0m\n",
      "ipdb> u\n",
      "*** all frames above hidden\n",
      "ipdb> u\n",
      "*** all frames above hidden\n",
      "ipdb> u\n",
      "*** all frames above hidden\n",
      "ipdb> u\n",
      "*** all frames above hidden\n",
      "ipdb> u\n",
      "*** all frames above hidden\n",
      "ipdb> u\n",
      "*** all frames above hidden\n",
      "ipdb> u\n",
      "*** all frames above hidden\n",
      "ipdb> u\n",
      "*** all frames above hidden\n",
      "ipdb> u\n",
      "*** all frames above hidden\n",
      "ipdb> u\n",
      "*** all frames above hidden\n",
      "ipdb> u\n",
      "*** all frames above hidden\n",
      "ipdb> u\n",
      "*** all frames above hidden\n",
      "ipdb> u\n",
      "*** all frames above hidden\n",
      "ipdb> u\n",
      "*** all frames above hidden\n",
      "ipdb> u\n",
      "*** all frames above hidden\n",
      "ipdb> \n",
      "*** all frames above hidden\n",
      "ipdb> \n",
      "*** all frames above hidden\n",
      "ipdb> \n",
      "*** all frames above hidden\n",
      "ipdb> \n",
      "*** all frames above hidden\n"
     ]
    }
   ],
   "source": [
    "pdb.pm()"
   ]
  },
  {
   "cell_type": "code",
   "execution_count": null,
   "metadata": {},
   "outputs": [],
   "source": [
    "df_JBW, df_JBW_sd = find_segment_differences(seg_JBW_stardist, seg_JBW, centroid_thresh=10, iou_thresh=0.8)\n"
   ]
  },
  {
   "cell_type": "code",
   "execution_count": null,
   "metadata": {},
   "outputs": [
    {
     "name": "stdout",
     "output_type": "stream",
     "text": [
      "125128\n",
      "125128\n"
     ]
    }
   ],
   "source": [
    "df_MM, df_MM_sd = find_segment_differences(seg_MM_stardist, seg_MM, centroid_thresh=10, iou_thresh=0.8)\n"
   ]
  },
  {
   "cell_type": "code",
   "execution_count": 1,
   "metadata": {},
   "outputs": [
    {
     "ename": "NameError",
     "evalue": "name 'find_segment_differences' is not defined",
     "output_type": "error",
     "traceback": [
      "\u001b[0;31m---------------------------------------------------------------------------\u001b[0m",
      "\u001b[0;31mNameError\u001b[0m                                 Traceback (most recent call last)",
      "\u001b[0;32m<ipython-input-1-2dc2f4ae21fa>\u001b[0m in \u001b[0;36m<module>\u001b[0;34m\u001b[0m\n\u001b[0;32m----> 1\u001b[0;31m \u001b[0mdf_DL\u001b[0m\u001b[0;34m,\u001b[0m \u001b[0mdf_DL_sd\u001b[0m \u001b[0;34m=\u001b[0m \u001b[0mfind_segment_differences\u001b[0m\u001b[0;34m(\u001b[0m\u001b[0mseg_DL_stardist\u001b[0m\u001b[0;34m,\u001b[0m \u001b[0mseg_DL\u001b[0m\u001b[0;34m,\u001b[0m \u001b[0mcentroid_thresh\u001b[0m\u001b[0;34m=\u001b[0m\u001b[0;36m10\u001b[0m\u001b[0;34m,\u001b[0m \u001b[0miou_thresh\u001b[0m\u001b[0;34m=\u001b[0m\u001b[0;36m0.8\u001b[0m\u001b[0;34m)\u001b[0m\u001b[0;34m\u001b[0m\u001b[0;34m\u001b[0m\u001b[0m\n\u001b[0m",
      "\u001b[0;31mNameError\u001b[0m: name 'find_segment_differences' is not defined"
     ]
    }
   ],
   "source": [
    "df_DL, df_DL_sd = find_segment_differences(seg_DL_stardist, seg_DL, centroid_thresh=10, iou_thresh=0.8)\n"
   ]
  },
  {
   "cell_type": "code",
   "execution_count": null,
   "metadata": {},
   "outputs": [],
   "source": [
    "df_RM, df_RM_sd = find_segment_differences(seg_RM_stardist, seg_RM, centroid_thresh=10, iou_thresh=0.8)"
   ]
  },
  {
   "cell_type": "code",
   "execution_count": null,
   "metadata": {
    "scrolled": true
   },
   "outputs": [],
   "source": [
    "print(df_JBW.shape)\n",
    "print(df_JBW_sd.shape)\n",
    "\n",
    "print(df_PT.shape)\n",
    "print(df_PT_sd.shape)\n",
    "\n",
    "print(df_MM.shape)\n",
    "print(df_MM_sd.shape)\n",
    "\n",
    "print(df_DL.shape)\n",
    "print(df_DL_sd.shape)\n",
    "\n",
    "print(df_RM.shape)\n",
    "print(df_RM_sd.shape)"
   ]
  },
  {
   "cell_type": "code",
   "execution_count": null,
   "metadata": {
    "scrolled": true
   },
   "outputs": [],
   "source": []
  },
  {
   "cell_type": "code",
   "execution_count": 365,
   "metadata": {},
   "outputs": [],
   "source": [
    "#duplicates = df_PT_ext.duplicated(['centroid-0', 'centroid-1', 'centroid-2'])\n",
    "duplicates = df_PT_ext[df_PT_ext.applymap(lambda x: x[0] if isinstance(x, list) else x).duplicated('area')]"
   ]
  },
  {
   "cell_type": "code",
   "execution_count": 114,
   "metadata": {},
   "outputs": [
    {
     "data": {
      "text/html": [
       "<div>\n",
       "<style scoped>\n",
       "    .dataframe tbody tr th:only-of-type {\n",
       "        vertical-align: middle;\n",
       "    }\n",
       "\n",
       "    .dataframe tbody tr th {\n",
       "        vertical-align: top;\n",
       "    }\n",
       "\n",
       "    .dataframe thead th {\n",
       "        text-align: right;\n",
       "    }\n",
       "</style>\n",
       "<table border=\"1\" class=\"dataframe\">\n",
       "  <thead>\n",
       "    <tr style=\"text-align: right;\">\n",
       "      <th></th>\n",
       "      <th>area</th>\n",
       "      <th>bbox-0</th>\n",
       "      <th>bbox-1</th>\n",
       "      <th>bbox-2</th>\n",
       "      <th>bbox-3</th>\n",
       "      <th>bbox-4</th>\n",
       "      <th>bbox-5</th>\n",
       "      <th>centroid-0</th>\n",
       "      <th>centroid-1</th>\n",
       "      <th>centroid-2</th>\n",
       "      <th>centroid</th>\n",
       "      <th>bbox</th>\n",
       "      <th>match</th>\n",
       "    </tr>\n",
       "  </thead>\n",
       "  <tbody>\n",
       "    <tr>\n",
       "      <th>44</th>\n",
       "      <td>383</td>\n",
       "      <td>25</td>\n",
       "      <td>19</td>\n",
       "      <td>14</td>\n",
       "      <td>34</td>\n",
       "      <td>27</td>\n",
       "      <td>24</td>\n",
       "      <td>29</td>\n",
       "      <td>22</td>\n",
       "      <td>18</td>\n",
       "      <td>[29, 22, 18]</td>\n",
       "      <td>[25, 19, 14, 34, 27, 24]</td>\n",
       "      <td>False</td>\n",
       "    </tr>\n",
       "  </tbody>\n",
       "</table>\n",
       "</div>"
      ],
      "text/plain": [
       "   area bbox-0 bbox-1 bbox-2 bbox-3 bbox-4 bbox-5 centroid-0 centroid-1  \\\n",
       "44  383     25     19     14     34     27     24         29         22   \n",
       "\n",
       "   centroid-2      centroid                      bbox  match  \n",
       "44         18  [29, 22, 18]  [25, 19, 14, 34, 27, 24]  False  "
      ]
     },
     "execution_count": 114,
     "metadata": {},
     "output_type": "execute_result"
    }
   ],
   "source": []
  },
  {
   "cell_type": "code",
   "execution_count": null,
   "metadata": {},
   "outputs": [],
   "source": []
  },
  {
   "cell_type": "code",
   "execution_count": null,
   "metadata": {},
   "outputs": [],
   "source": []
  },
  {
   "cell_type": "code",
   "execution_count": 367,
   "metadata": {},
   "outputs": [],
   "source": [
    "area_JBW = df_JBW['area']\n",
    "area_JBW_sd = df_JBW_sd['area']\n",
    "\n",
    "area_PT = df_PT['area']\n",
    "area_PT_sd = df_PT_sd['area']\n",
    "\n",
    "area_MM = df_MM['area']\n",
    "area_MM_sd = df_MM_sd['area']\n",
    "\n",
    "area_DL = df_DL['area']\n",
    "area_DL_sd = df_DL_sd['area']\n",
    "\n",
    "area_RM = df_RM['area']\n",
    "area_RM_sd = df_RM_sd['area']"
   ]
  },
  {
   "cell_type": "code",
   "execution_count": 368,
   "metadata": {},
   "outputs": [
    {
     "name": "stdout",
     "output_type": "stream",
     "text": [
      "(81,)\n",
      "(97,)\n",
      "(76,)\n",
      "(76,)\n",
      "(100,)\n",
      "(113,)\n",
      "(65,)\n",
      "(96,)\n",
      "(93,)\n",
      "(92,)\n"
     ]
    }
   ],
   "source": [
    "\n",
    "\n",
    "print(area_JBW.shape)\n",
    "print(area_JBW_sd.shape)\n",
    "\n",
    "print(area_PT.shape)\n",
    "print(area_PT_sd.shape)\n",
    "\n",
    "print(area_MM.shape)\n",
    "print(area_MM_sd.shape)\n",
    "\n",
    "print(area_DL.shape)\n",
    "print(area_DL_sd.shape)\n",
    "\n",
    "print(area_RM.shape)\n",
    "print(area_RM_sd.shape)"
   ]
  },
  {
   "cell_type": "code",
   "execution_count": 362,
   "metadata": {},
   "outputs": [],
   "source": [
    "area_diff_JBW = area_JBW - area_JBW_sd\n",
    "area_diff_PT = area_PT - area_PT_sd\n",
    "area_diff_MM =  area_MM - area_MM_sd\n",
    "area_diff_DL = area_DL - area_DL_sd\n",
    "area_diff_RM = area_RM - area_RM_sd"
   ]
  },
  {
   "cell_type": "code",
   "execution_count": 363,
   "metadata": {},
   "outputs": [
    {
     "data": {
      "image/png": "[encoded data removed]",
      "text/plain": [
       "<Figure size 432x288 with 5 Axes>"
      ]
     },
     "metadata": {
      "needs_background": "light"
     },
     "output_type": "display_data"
    }
   ],
   "source": [
    "#JBW_bins = np.unique(area_diff_JBW.values)\n",
    "#PT_bins = np.unique(area_diff_PT.values)\n",
    "\n",
    "fig = plt.figure()\n",
    "#fig.title(\"histogramms: area difference compared to stardist segmentation\")\n",
    "ax1 = fig.add_subplot(2,3,1)\n",
    "ax2 = fig.add_subplot(2,3,2)\n",
    "ax3 = fig.add_subplot(2,3,3)\n",
    "ax4 = fig.add_subplot(2,3,4)\n",
    "ax5 = fig.add_subplot(2,3,5)\n",
    "ax1.hist(area_diff_JBW.values)#, bins = JBW_bins) \n",
    "ax1.set_title(\"JBW - stardist\")\n",
    "#ax1.set_xlabel('intensity bins')\n",
    "\n",
    "ax2.hist(area_diff_PT.values)#, bins = PT_bins) \n",
    "ax2.set_title(\"PT - stardist\")\n",
    "\n",
    "ax3.hist(area_diff_MM.values)#, bins = PT_bins) \n",
    "ax3.set_title(\"MM - stardist\")\n",
    "\n",
    "ax4.hist(area_diff_DL.values)#, bins = PT_bins) \n",
    "ax4.set_title(\"DL - stardist\")\n",
    "\n",
    "ax5.hist(area_diff_RM.values)#, bins = PT_bins) \n",
    "ax5.set_title(\"RM - stardist\")\n",
    "#ax2.set_xlabel('intensity bins')\n",
    "'''\n",
    "plt.subplots_adjust(left=0.125,\n",
    "                    bottom=0.1, \n",
    "                    right=1, \n",
    "                    top=1, \n",
    "                    wspace=2, \n",
    "                    hspace=0.2)\n",
    "'''\n",
    "plt.tight_layout()\n",
    "\n",
    "plt.show()"
   ]
  },
  {
   "cell_type": "code",
   "execution_count": null,
   "metadata": {},
   "outputs": [],
   "source": []
  },
  {
   "cell_type": "code",
   "execution_count": null,
   "metadata": {},
   "outputs": [],
   "source": []
  }
 ],
 "metadata": {
  "kernelspec": {
   "display_name": "Python 3",
   "language": "python",
   "name": "python3"
  },
  "language_info": {
   "codemirror_mode": {
    "name": "ipython",
    "version": 3
   },
   "file_extension": ".py",
   "mimetype": "text/x-python",
   "name": "python",
   "nbconvert_exporter": "python",
   "pygments_lexer": "ipython3",
   "version": "3.8.5"
  }
 },
 "nbformat": 4,
 "nbformat_minor": 4
}
