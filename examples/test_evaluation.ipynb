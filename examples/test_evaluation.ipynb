{
 "cells": [
  {
   "cell_type": "markdown",
   "metadata": {
    "pycharm": {
     "name": "#%% md\n"
    }
   },
   "source": [
    "# Run tests on Code in evaluation.py file"
   ]
  },
  {
   "cell_type": "code",
   "execution_count": 1,
   "metadata": {},
   "outputs": [],
   "source": [
    "import os\n",
    "import sys\n",
    "path = os.path.dirname(os.path.abspath(\"\"))+\"/\""
   ]
  },
  {
   "cell_type": "code",
   "execution_count": 2,
   "metadata": {},
   "outputs": [],
   "source": [
    "sys.path.append(path)\n",
    "from CellAnalysis.evaluation import *\n",
    "from skimage import io\n",
    "import matplotlib.pyplot as plt"
   ]
  },
  {
   "cell_type": "markdown",
   "metadata": {
    "pycharm": {
     "name": "#%% md\n"
    }
   },
   "source": [
    "### Import segmentation masks from model and proofread data"
   ]
  },
  {
   "cell_type": "code",
   "execution_count": 3,
   "metadata": {},
   "outputs": [],
   "source": [
    "# file root\n",
    "file_root = path + 'x-ray-boxes/'\n",
    "\n",
    "#volume_JBW = io.imread(file_root + 'box6_vol.tif')\n",
    "seg_JBW = io.imread(file_root + 'box6_seg.tif')\n",
    "seg_JBW_stardist = io.imread(file_root + 'box6_stardist.tif')\n",
    "\n",
    "# volume_PT = io.imread('box2_vol.tif')\n",
    "seg_PT = io.imread(file_root + 'box2_seg.tif')\n",
    "seg_PT_stardist = io.imread(file_root + 'box2_stardist.tif')\n",
    "\n",
    "# volume_MM = io.imread('box3_vol.tif')\n",
    "seg_MM = io.imread(file_root + 'box3_seg.tif')\n",
    "seg_MM_stardist = io.imread(file_root + 'box3_stardist.tif')\n",
    "\n",
    "# volume_DL = io.imread('box4_vol.tif')\n",
    "seg_DL = io.imread(file_root + 'box4_seg.tif')\n",
    "seg_DL_stardist = io.imread(file_root + 'box4_stardist.tif')\n",
    "\n",
    "# volume_RM = io.imread('box5_vol.tif')\n",
    "seg_RM = io.imread(file_root + 'box5_seg.tif')\n",
    "seg_RM_stardist = io.imread(file_root + 'box5_stardist.tif')"
   ]
  },
  {
   "cell_type": "markdown",
   "metadata": {
    "pycharm": {
     "name": "#%% md\n"
    }
   },
   "source": [
    "### Test metric function on example box"
   ]
  },
  {
   "cell_type": "code",
   "execution_count": 4,
   "metadata": {},
   "outputs": [
    {
     "name": "stdout",
     "output_type": "stream",
     "text": [
      "Shape of ground truth centroid vector: \t \t (81, 3)\n",
      "Shape of model prediction centroid vector: \t (97, 3)\n",
      "Calculating distance matrix...\n",
      "Shape of calculated distance matrix: \t \t (81, 97)\n",
      "Average Distance between Centroids: \t \t1.6113\n",
      "Mean Average Distance between Centroids: \t36.1259\n",
      "f_score: \t \t \t \t \t0.9573\n",
      "CPU times: user 82.8 ms, sys: 7.03 ms, total: 89.8 ms\n",
      "Wall time: 95.1 ms\n"
     ]
    }
   ],
   "source": [
    "%%time\n",
    "dist_thresh = 0.5\n",
    "min_adc, mean_adc, f_score, precision, recall, tp, fp, fn = average_distance_between_centroids(seg_JBW, seg_JBW_stardist, dist_thresh = dist_thresh, all_stats=True)\n",
    "\n",
    "print('Average Distance between Centroids: \\t \\t{:.4f}'.format(min_adc))\n",
    "print('Mean Average Distance between Centroids: \\t{:.4f}'.format(mean_adc))\n",
    "print('f_score: \\t \\t \\t \\t \\t{:.4f}'.format(f_score))"
   ]
  },
  {
   "cell_type": "markdown",
   "source": [
    "### Test that distance evalutes to 0.0 if volumes are equal"
   ],
   "metadata": {
    "collapsed": false
   }
  },
  {
   "cell_type": "code",
   "execution_count": null,
   "outputs": [],
   "source": [
    "%%time\n",
    "dist_thresh = 0.5\n",
    "min_adc, mean_adc, f_score, precision, recall, tp, fp, fn = average_distance_between_centroids(seg_JBW, seg_JBW, dist_thresh = dist_thresh, all_stats=True)\n",
    "\n",
    "print('Average Distance between Centroids: \\t \\t{:.4f}'.format(min_adc))\n",
    "print('Mean Average Distance between Centroids: \\t{:.4f}'.format(mean_adc))\n",
    "print('f_score: \\t \\t \\t \\t \\t{:.4f}'.format(f_score))"
   ],
   "metadata": {
    "collapsed": false,
    "pycharm": {
     "name": "#%%\n"
    }
   }
  },
  {
   "cell_type": "markdown",
   "source": [
    "### Runtime analysis for bigger volumes"
   ],
   "metadata": {
    "collapsed": false
   }
  },
  {
   "cell_type": "code",
   "execution_count": null,
   "outputs": [],
   "source": [
    "import time\n",
    "dist_thresh = 0.5\n",
    "start = time.time()\n",
    "min_adc, mean_adc, f_score, precision, recall, tp, fp, fn = average_distance_between_centroids(seg_JBW, seg_JBW_stardist, dist_thresh = dist_thresh, all_stats=True)\n",
    "end = time.time()\n",
    "print('Average Distance between Centroids: \\t \\t{:.4f}'.format(min_adc))\n",
    "print('Mean Average Distance between Centroids: \\t{:.4f}'.format(mean_adc))\n",
    "print('f_score: \\t \\t \\t \\t \\t{:.4f}'.format(f_score))\n",
    "print (\"\\nTime elapsed for volume of shape {}: {:.6f} \\n\".format(seg_JBW.shape, end - start))\n",
    "\n",
    "print(\"-------------------------------------------------------\\n\")\n",
    "temp_gt = np.concatenate((np.concatenate((seg_JBW, seg_PT), axis=0),np.concatenate((seg_MM, seg_DL), axis=0)), axis=1)\n",
    "big_vol_gt = np.concatenate((temp_gt, temp_gt), axis =2)\n",
    "print(\"Shape of enlarged box of ground truth data: \\t{}\".format(big_vol_gt.shape))\n",
    "temp_pred = np.concatenate((np.concatenate((seg_JBW_stardist, seg_PT_stardist), axis=0),np.concatenate((seg_MM_stardist, seg_DL_stardist), axis=0)), axis=1)\n",
    "big_vol_pred = np.concatenate((temp_pred, temp_pred), axis =2)\n",
    "print(\"Shape of enlarged box of prediction data: \\t{}\".format(big_vol_pred.shape))\n",
    "\n",
    "start = time.time()\n",
    "min_adc, mean_adc, f_score, precision, recall, tp, fp, fn = average_distance_between_centroids(big_vol_gt, big_vol_pred, dist_thresh = dist_thresh, all_stats=True)\n",
    "end = time.time()\n",
    "print('Average Distance between Centroids: \\t \\t{:.4f}'.format(min_adc))\n",
    "print('Mean Average Distance between Centroids: \\t{:.4f}'.format(mean_adc))\n",
    "print('f_score: \\t \\t \\t \\t \\t{:.4f}'.format(f_score))\n",
    "print (\"\\nTime elapsed for volume of shape {}: {:.6f} \\n\".format(big_vol_gt.shape, end - start))"
   ],
   "metadata": {
    "collapsed": false,
    "pycharm": {
     "name": "#%%\n"
    }
   }
  },
  {
   "cell_type": "markdown",
   "metadata": {},
   "source": [
    "bigger_vol_gt = np.concatenate([big_vol_gt]*64).reshape((400, 400, -1))\n",
    "print(bigger_vol_gt.shape)\n",
    "bigger_vol_pred = np.concatenate([big_vol_pred]*64).reshape((400, 400, -1))\n",
    "print(bigger_vol_pred.shape)"
   ]
  },
  {
   "cell_type": "code",
   "execution_count": 5,
   "metadata": {},
   "outputs": [
    {
     "name": "stdout",
     "output_type": "stream",
     "text": [
      "Shape of ground truth centroid vector: \t \t (81, 3)\n",
      "Shape of model prediction centroid vector: \t (81, 3)\n",
      "Calculating distance matrix...\n",
      "Shape of calculated distance matrix: \t \t (81, 81)\n",
      "Average Distance between Centroids: \t \t0.0000\n",
      "Mean Average Distance between Centroids: \t35.6776\n",
      "f_score: \t \t \t \t \t2.5000\n",
      "CPU times: user 66.2 ms, sys: 3.4 ms, total: 69.6 ms\n",
      "Wall time: 75.2 ms\n"
     ]
    }
   ],
   "source": [
    "%%time\n",
    "dist_thresh = 0.5\n",
    "min_adc, mean_adc, f_score, precision, recall, tp, fp, fn = average_distance_between_centroids(seg_JBW, seg_JBW, dist_thresh = dist_thresh, all_stats=True)\n",
    "\n",
    "print('Average Distance between Centroids: \\t \\t{:.4f}'.format(min_adc))\n",
    "print('Mean Average Distance between Centroids: \\t{:.4f}'.format(mean_adc))\n",
    "print('f_score: \\t \\t \\t \\t \\t{:.4f}'.format(f_score))"
   ]
  },
  {
   "cell_type": "markdown",
   "metadata": {},
   "source": [
    "### Runtime analysis for bigger volumes"
   ]
  },
  {
   "cell_type": "code",
   "execution_count": 6,
   "metadata": {},
   "outputs": [
    {
     "name": "stdout",
     "output_type": "stream",
     "text": [
      "Shape of ground truth centroid vector: \t \t (81, 3)\n",
      "Shape of model prediction centroid vector: \t (97, 3)\n",
      "Calculating distance matrix...\n",
      "Shape of calculated distance matrix: \t \t (81, 97)\n",
      "Average Distance between Centroids: \t \t1.6113\n",
      "Mean Average Distance between Centroids: \t36.1259\n",
      "f_score: \t \t \t \t \t0.9573\n",
      "\n",
      "Time elapsed for volume of shape (50, 50, 50): 0.065895 \n",
      "\n",
      "-------------------------------------------------------\n",
      "\n",
      "Shape of enlarged box of ground truth data: \t(100, 100, 100)\n",
      "Shape of enlarged box of prediction data: \t(100, 100, 100)\n",
      "Shape of ground truth centroid vector: \t \t (100, 3)\n",
      "Shape of model prediction centroid vector: \t (210, 3)\n",
      "Calculating distance matrix...\n",
      "Shape of calculated distance matrix: \t \t (100, 210)\n",
      "Average Distance between Centroids: \t \t9.4474\n",
      "Mean Average Distance between Centroids: \t40.6958\n",
      "f_score: \t \t \t \t \t0.6965\n",
      "\n",
      "Time elapsed for volume of shape (100, 100, 100): 0.745293 \n",
      "\n"
     ]
    }
   ],
   "source": [
    "import time\n",
    "dist_thresh = 0.5\n",
    "start = time.time()\n",
    "min_adc, mean_adc, f_score, precision, recall, tp, fp, fn = average_distance_between_centroids(seg_JBW, seg_JBW_stardist, dist_thresh = dist_thresh, all_stats=True)\n",
    "end = time.time()\n",
    "print('Average Distance between Centroids: \\t \\t{:.4f}'.format(min_adc))\n",
    "print('Mean Average Distance between Centroids: \\t{:.4f}'.format(mean_adc))\n",
    "print('f_score: \\t \\t \\t \\t \\t{:.4f}'.format(f_score))\n",
    "print (\"\\nTime elapsed for volume of shape {}: {:.6f} \\n\".format(seg_JBW.shape, end - start))\n",
    "\n",
    "print(\"-------------------------------------------------------\\n\")\n",
    "temp_gt = np.concatenate((np.concatenate((seg_JBW, seg_PT), axis=0),np.concatenate((seg_MM, seg_DL), axis=0)), axis=1)\n",
    "big_vol_gt = np.concatenate((temp_gt, temp_gt), axis =2)\n",
    "print(\"Shape of enlarged box of ground truth data: \\t{}\".format(big_vol_gt.shape))\n",
    "temp_pred = np.concatenate((np.concatenate((seg_JBW_stardist, seg_PT_stardist), axis=0),np.concatenate((seg_MM_stardist, seg_DL_stardist), axis=0)), axis=1)\n",
    "big_vol_pred = np.concatenate((temp_pred, temp_pred), axis =2)\n",
    "print(\"Shape of enlarged box of prediction data: \\t{}\".format(big_vol_pred.shape))\n",
    "\n",
    "start = time.time()\n",
    "min_adc, mean_adc, f_score, precision, recall, tp, fp, fn = average_distance_between_centroids(big_vol_gt, big_vol_pred, dist_thresh = dist_thresh, all_stats=True)\n",
    "end = time.time()\n",
    "print('Average Distance between Centroids: \\t \\t{:.4f}'.format(min_adc))\n",
    "print('Mean Average Distance between Centroids: \\t{:.4f}'.format(mean_adc))\n",
    "print('f_score: \\t \\t \\t \\t \\t{:.4f}'.format(f_score))\n",
    "print (\"\\nTime elapsed for volume of shape {}: {:.6f} \\n\".format(big_vol_gt.shape, end - start))"
   ]
  },
  {
   "cell_type": "code",
   "execution_count": 7,
   "metadata": {},
   "outputs": [
    {
     "name": "stdout",
     "output_type": "stream",
     "text": [
      "(400, 400, 400)\n",
      "(400, 400, 400)\n"
     ]
    }
   ],
   "source": [
    "bigger_vol_gt = np.concatenate([big_vol_gt]*64).reshape((400, 400, -1))\n",
    "print(bigger_vol_gt.shape)\n",
    "bigger_vol_pred = np.concatenate([big_vol_pred]*64).reshape((400, 400, -1))\n",
    "print(bigger_vol_pred.shape)"
   ]
  },
  {
   "cell_type": "code",
   "execution_count": 74,
   "metadata": {},
   "outputs": [
    {
     "name": "stdout",
     "output_type": "stream",
     "text": [
      "Shape of ground truth centroid vector: \t \t (100, 3)\n",
      "Shape of model prediction centroid vector: \t (210, 3)\n",
      "Calculating distance matrix...\n",
      "Shape of calculated distance matrix: \t \t (100, 210)\n",
      "Average Distance between Centroids: \t \t5.3918\n",
      "Mean Average Distance between Centroids: \t28.8271\n",
      "f_score: \t \t \t \t \t0.6869\n",
      "CPU times: user 3min 4s, sys: 28.4 s, total: 3min 33s\n",
      "Wall time: 3min 54s\n"
     ]
    }
   ],
   "source": [
    "%%time\n",
    "dist_thresh = 0.5\n",
    "min_adc, mean_adc, f_score, precision, recall, tp, fp, fn = average_distance_between_centroids(bigger_vol_gt, bigger_vol_pred, dist_thresh = dist_thresh, all_stats=True)\n",
    "\n",
    "print('Average Distance between Centroids: \\t \\t{:.4f}'.format(min_adc))\n",
    "print('Mean Average Distance between Centroids: \\t{:.4f}'.format(mean_adc))\n",
    "print('f_score: \\t \\t \\t \\t \\t{:.4f}'.format(f_score))"
   ]
  },
  {
   "cell_type": "code",
   "execution_count": null,
   "metadata": {},
   "outputs": [],
   "source": []
  }
 ],
 "metadata": {
  "kernelspec": {
   "display_name": "Python 3",
   "language": "python",
   "name": "python3"
  },
  "language_info": {
   "codemirror_mode": {
    "name": "ipython",
    "version": 3
   },
   "file_extension": ".py",
   "mimetype": "text/x-python",
   "name": "python",
   "nbconvert_exporter": "python",
   "pygments_lexer": "ipython3",
   "version": "3.8.5"
  },
  "pycharm": {
   "stem_cell": {
    "cell_type": "raw",
    "source": [],
    "metadata": {
     "collapsed": false
    }
   }
  }
 },
 "nbformat": 4,
 "nbformat_minor": 1
}