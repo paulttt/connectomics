{
 "cells": [
  {
   "cell_type": "code",
   "execution_count": 1,
   "id": "89ce28d8",
   "metadata": {},
   "outputs": [
    {
     "name": "stdout",
     "output_type": "stream",
     "text": [
      "/Users/Paul/Harvard/Code/connectomics/\n"
     ]
    }
   ],
   "source": [
    "%matplotlib widget\n",
    "import os\n",
    "import sys\n",
    "path = os.path.dirname(os.path.abspath(\"\"))+\"/\"\n",
    "sys.path.append(path)\n",
    "sys.path.insert(1, path+'cellpose/')\n",
    "print(path)"
   ]
  },
  {
   "cell_type": "code",
   "execution_count": 2,
   "id": "c7839192",
   "metadata": {},
   "outputs": [],
   "source": [
    "from skimage import io\n",
    "import matplotlib.pyplot as plt\n",
    "import matplotlib as mpl\n",
    "import numpy as np\n",
    "import h5py\n",
    "import glob\n",
    "from CellAnalysis.eval import Eval\n",
    "from CellAnalysis.eval import Benchmarker\n",
    "from matplotlib.gridspec import GridSpec\n",
    "import seaborn as sns"
   ]
  },
  {
   "cell_type": "code",
   "execution_count": null,
   "id": "d23325bb",
   "metadata": {},
   "outputs": [],
   "source": []
  },
  {
   "cell_type": "code",
   "execution_count": 3,
   "id": "d28a4884",
   "metadata": {},
   "outputs": [],
   "source": [
    "# file root\n",
    "file_root = path + 'data/EM/'\n",
    "\n",
    "\n",
    "box12_pc_old = h5py.File(file_root +'testing/box12_pred.h5', 'r').get('main').value.astype(np.uint16)\n",
    "#box12_gt = io.imread(file_root + 'testing/box12_GT.tif').astype(np.uint16)\n",
    "box12_gt = io.imread(file_root + 'testing/testing/box12/box12_masks.tif').astype(np.uint16)\n",
    "box12_pc_oldest = io.imread(file_root + 'testing/box12_PC_OLD.tif')\n",
    "box12_pc = io.imread(file_root + 'testing/box12_PC_NEWEST.tif')\n",
    "#box12_pc_old = io.imread(file_root + 'testing/box12_PC_NEW.tif')\n",
    "box12_sd_500 = io.imread(file_root + 'testing/box12_SD_500.tif')\n",
    "box12_sd_1000 = io.imread(file_root + 'testing/box12_SD_1000.tif')\n",
    "box12_sd_2000 = io.imread(file_root + 'testing/box12_SD_2000.tif')\n",
    "box12_sd_5000 = io.imread(file_root + 'testing/box12_SD_5000.tif')\n",
    "box12_cp_cutoff = io.imread(file_root + 'testing/box12_CP_CO.tif')\n",
    "box12_cp_untrained = io.imread(file_root + 'testing/box12_CP_UT.tif')\n",
    "box12_cp_500 = io.imread(file_root + 'testing/box12_CP_500.tif')\n",
    "box12_cp_1000 = io.imread(file_root + 'testing/box12_CP_1000.tif')\n",
    "box12_cp_2000 = io.imread(file_root + 'testing/box12_CP_2000.tif')\n",
    "box12_cp_5000 = io.imread(file_root + 'testing/box12_CP_5000.tif')\n",
    "\n",
    "box13_pc_old = h5py.File(file_root +'testing/box13_pred.h5', 'r').get('main').value.astype(np.uint16)\n",
    "#box13_gt = io.imread(file_root + 'testing/box13_GT.tif')\n",
    "box13_gt = io.imread(file_root + 'testing/testing/box13/box13_masks.tif').astype(np.uint16)\n",
    "box13_pc_oldest = io.imread(file_root + 'testing/box13_PC_OLD.tif')\n",
    "box13_pc = io.imread(file_root + 'testing/box13_PC_NEWEST.tif')\n",
    "#box13_pc_old = io.imread(file_root + 'testing/box13_PC_NEW.tif')\n",
    "box13_sd_500 = io.imread(file_root + 'testing/box13_SD_500.tif')\n",
    "box13_sd_1000 = io.imread(file_root + 'testing/box13_SD_1000.tif')\n",
    "box13_sd_2000 = io.imread(file_root + 'testing/box13_SD_2000.tif')\n",
    "box13_sd_5000 = io.imread(file_root + 'testing/box13_SD_5000.tif')\n",
    "box13_cp_cutoff = io.imread(file_root + 'testing/box13_CP_CO.tif')\n",
    "box13_cp_untrained = io.imread(file_root + 'testing/box13_CP_UT.tif')\n",
    "box13_cp_500 = io.imread(file_root + 'testing/box13_CP_500.tif')\n",
    "box13_cp_1000 = io.imread(file_root + 'testing/box13_CP_1000.tif')\n",
    "box13_cp_2000 = io.imread(file_root + 'testing/box13_CP_2000.tif')\n",
    "box13_cp_5000 = io.imread(file_root + 'testing/box13_CP_5000.tif')\n",
    "\n",
    "box7_pc_old = h5py.File(file_root +'testing/box7_pred.h5', 'r').get('main').value.astype(np.uint16)\n",
    "#box7_gt = io.imread(file_root + 'testing/box7_GT.tif').astype(np.uint16)\n",
    "box7_gt = io.imread(file_root + 'testing/testing/box7/box7_masks.tif').astype(np.uint16)\n",
    "box7_pc_oldest = io.imread(file_root + 'testing/box7_PC_OLD.tif')\n",
    "box7_pc = io.imread(file_root + 'testing/box7_PC_NEWEST.tif')\n",
    "#box7_pc_old = io.imread(file_root + 'testing/box7_PC_NEW.tif')\n",
    "box7_sd_500 = io.imread(file_root + 'testing/box7_SD_500.tif')\n",
    "box7_sd_1000 = io.imread(file_root + 'testing/box7_SD_1000.tif')\n",
    "box7_sd_2000 = io.imread(file_root + 'testing/box7_SD_2000.tif')\n",
    "box7_sd_5000 = io.imread(file_root + 'testing/box7_SD_5000.tif')\n",
    "box7_cp_cutoff = io.imread(file_root + 'testing/box7_CP_CO.tif')\n",
    "box7_cp_untrained = io.imread(file_root + 'testing/box7_CP_UT.tif')\n",
    "box7_cp_500 = io.imread(file_root + 'testing/box7_CP_500.tif')\n",
    "box7_cp_1000 = io.imread(file_root + 'testing/box7_CP_1000.tif')\n",
    "box7_cp_2000 = io.imread(file_root + 'testing/box7_CP_2000.tif')\n",
    "box7_cp_5000 = io.imread(file_root + 'testing/box7_CP_5000.tif')"
   ]
  },
  {
   "cell_type": "code",
   "execution_count": null,
   "id": "1973ea57",
   "metadata": {},
   "outputs": [],
   "source": []
  },
  {
   "cell_type": "code",
   "execution_count": 4,
   "id": "3a7e8444",
   "metadata": {},
   "outputs": [],
   "source": [
    "gt = [box12_gt, box13_gt, box7_gt]\n",
    "pc_oldest = [box12_pc_oldest, box13_pc_oldest, box7_pc_oldest]\n",
    "pc_old = [box12_pc_old, box13_pc_old, box7_pc_old]\n",
    "pc = [box12_pc, box13_pc, box7_pc]\n",
    "#pc_new = [box12_pc_new, box13_pc_new, box7_pc_new]\n",
    "sd_500 = [box12_sd_500, box13_sd_500, box7_sd_500]\n",
    "sd_1000 = [box12_sd_1000, box13_sd_1000, box7_sd_1000]\n",
    "sd_2000 = [box12_sd_2000, box13_sd_2000, box7_sd_2000]\n",
    "sd_5000 = [box12_sd_5000, box13_sd_5000, box7_sd_5000]\n",
    "cp_cutoff = [box12_cp_cutoff, box13_cp_cutoff, box7_cp_cutoff]\n",
    "cp_untrained = [box12_cp_untrained, box13_cp_untrained, box7_cp_untrained]\n",
    "cp_500 = [box12_cp_500, box13_cp_500, box7_cp_500]\n",
    "cp_1000 = [box12_cp_1000, box13_cp_1000, box7_cp_1000]\n",
    "cp_2000 = [box12_cp_2000, box13_cp_2000, box7_cp_2000]\n",
    "cp_5000 = [box12_cp_5000, box13_cp_5000, box7_cp_5000]\n",
    "\n",
    "models = [pc, pc_old, cp_500, cp_1000, cp_2000, cp_5000, cp_untrained, sd_500, sd_1000, sd_2000, sd_5000]"
   ]
  },
  {
   "cell_type": "code",
   "execution_count": null,
   "id": "fbff9ffa",
   "metadata": {},
   "outputs": [],
   "source": []
  },
  {
   "cell_type": "code",
   "execution_count": 5,
   "id": "d0c032ed",
   "metadata": {
    "scrolled": true
   },
   "outputs": [
    {
     "name": "stdout",
     "output_type": "stream",
     "text": [
      "11\n"
     ]
    }
   ],
   "source": [
    "from CellAnalysis.eval import Eval\n",
    "model_names = ['PyTC (2nd run)', 'PyTC (1st run)', 'Cellpose (500 Epochs)', 'Cellpose (1000 Epochs)', 'Cellpose (2000 Epochs)', 'Cellpose (5000 Epochs)', 'Cellpose (pretrained)', 'Stardist (500 Epochs)', 'Stardist (1000 Epochs)', 'Stardist (2000 Epochs)', 'Stardist (5000 Epochs)']\n",
    "benchmarkers = []\n",
    "print(len(models))\n",
    "\n",
    "for i, (data, name) in enumerate(zip(models, model_names)):\n",
    "    #print(gt[i].shape)\n",
    "    #print(data[0])\n",
    "    benchmarker = Eval(gt, data, resolution=(0.51, 0.51, 0.51), model_name=name, name_data='EM data')\n",
    "    benchmarker.accumulate()\n",
    "    benchmarkers.append(benchmarker)"
   ]
  },
  {
   "cell_type": "code",
   "execution_count": 6,
   "id": "e52a3db4",
   "metadata": {},
   "outputs": [],
   "source": [
    "benchmarker_sd = benchmarkers[7:]\n",
    "benchmarker_cp = benchmarkers[2:7]\n",
    "benchmarker_pc = benchmarkers[:2]"
   ]
  },
  {
   "cell_type": "code",
   "execution_count": 7,
   "id": "27586f68",
   "metadata": {},
   "outputs": [],
   "source": [
    "benchmark_sd = Benchmarker(benchmarker_sd)\n",
    "benchmark_cp = Benchmarker(benchmarker_cp)\n",
    "benchmark_pc = Benchmarker(benchmarker_pc)"
   ]
  },
  {
   "cell_type": "code",
   "execution_count": 8,
   "id": "8e01c96a",
   "metadata": {},
   "outputs": [
    {
     "data": {
      "application/vnd.jupyter.widget-view+json": {
       "model_id": "0768ca5281f34daa933012989df5ecac",
       "version_major": 2,
       "version_minor": 0
      },
      "text/plain": [
       "Canvas(toolbar=Toolbar(toolitems=[('Home', 'Reset original view', 'home', 'home'), ('Back', 'Back to previous …"
      ]
     },
     "metadata": {},
     "output_type": "display_data"
    }
   ],
   "source": [
    "sns.set()\n",
    "\n",
    "fig, ax = plt.subplots(1, 3, sharey=True, figsize=(14, 7))\n",
    "fig.suptitle('Average Distance between Centroids (ADC)', fontsize=18)\n",
    "ax[0] = benchmark_cp.plot_error_bars(ax[0], metric='adc', title='Cellpose')\n",
    "ax[1] = benchmark_pc.plot_error_bars(ax[1], metric='adgc', title='PyTC')\n",
    "ax[2] = benchmark_sd.plot_error_bars(ax[2], metric='adgc', title='Stardist')\n",
    "#sns.axlabel(xlabel=\"Models\", ylabel=\"ADC [um]\", fontsize=16, ax=ax)\n",
    "ax[0].set_ylabel('Euclidean Distance [µm]', fontsize=14)\n",
    "plt.tight_layout()\n",
    "plt.savefig('adc_boxplots.png')"
   ]
  },
  {
   "cell_type": "code",
   "execution_count": null,
   "id": "b2b430f7",
   "metadata": {},
   "outputs": [],
   "source": []
  },
  {
   "cell_type": "code",
   "execution_count": 9,
   "id": "d14d71ac",
   "metadata": {},
   "outputs": [
    {
     "data": {
      "application/vnd.jupyter.widget-view+json": {
       "model_id": "3e14de8bd3ff4bb18fcc4efc3b0dfcd2",
       "version_major": 2,
       "version_minor": 0
      },
      "text/plain": [
       "Canvas(toolbar=Toolbar(toolitems=[('Home', 'Reset original view', 'home', 'home'), ('Back', 'Back to previous …"
      ]
     },
     "metadata": {},
     "output_type": "display_data"
    }
   ],
   "source": [
    "fig, (ax1) = plt.subplots(1, 1, figsize=(12, 8))\n",
    "fig.suptitle('Comparison of training length and predictive performance', fontsize=25)\n",
    "benchmark = Benchmarker(benchmarkers)\n",
    "benchmark.plot_ap_curves(ax1)\n"
   ]
  },
  {
   "cell_type": "code",
   "execution_count": 10,
   "id": "3f90f937",
   "metadata": {},
   "outputs": [
    {
     "data": {
      "application/vnd.jupyter.widget-view+json": {
       "model_id": "79ef6942afe1435bafbd8a0278b38237",
       "version_major": 2,
       "version_minor": 0
      },
      "text/plain": [
       "Canvas(toolbar=Toolbar(toolitems=[('Home', 'Reset original view', 'home', 'home'), ('Back', 'Back to previous …"
      ]
     },
     "metadata": {},
     "output_type": "display_data"
    },
    {
     "data": {
      "text/plain": [
       "Text(0.5, 1.0, 'Stardist')"
      ]
     },
     "execution_count": 10,
     "metadata": {},
     "output_type": "execute_result"
    }
   ],
   "source": [
    "fig, (ax1, ax2, ax3) = plt.subplots(1, 3, figsize=(30, 8))\n",
    "fig.suptitle('Comparison of training length and predictive performance', fontsize=25)\n",
    "benchmark_cp.plot_ap_curves(ax1)\n",
    "benchmark_pc.plot_ap_curves(ax2)\n",
    "benchmark_sd.plot_ap_curves(ax3)\n",
    "ax1.set_title('Cellpose')\n",
    "ax2.set_title('Pytorch-Connectomics (PyTC)')\n",
    "ax3.set_title('Stardist')"
   ]
  },
  {
   "cell_type": "code",
   "execution_count": 11,
   "id": "4089800f",
   "metadata": {},
   "outputs": [
    {
     "data": {
      "application/vnd.jupyter.widget-view+json": {
       "model_id": "744a0facd41f461eb16c7b1a71905d2a",
       "version_major": 2,
       "version_minor": 0
      },
      "text/plain": [
       "Canvas(toolbar=Toolbar(toolitems=[('Home', 'Reset original view', 'home', 'home'), ('Back', 'Back to previous …"
      ]
     },
     "metadata": {},
     "output_type": "display_data"
    },
    {
     "data": {
      "text/plain": [
       "Text(0.5, 1.0, 'Comparison of best models')"
      ]
     },
     "execution_count": 11,
     "metadata": {},
     "output_type": "execute_result"
    }
   ],
   "source": [
    "fig, ax = plt.subplots(figsize=(12,9))\n",
    "benchmarkers[1].name = 'PyTC'\n",
    "benchmarkers[4].name = 'Cellpose'\n",
    "benchmarkers[-1].name = 'Stardist'\n",
    "\n",
    "benchmarkers_best = [benchmarkers[1], benchmarkers[4], benchmarkers[-1], benchmarkers[6]]\n",
    "benchmark_best = Benchmarker(benchmarkers_best)\n",
    "benchmark_best.plot_ap_curves(ax)\n",
    "ax.set_title('Comparison of best models', fontsize=25)"
   ]
  },
  {
   "cell_type": "code",
   "execution_count": 12,
   "id": "ac223684",
   "metadata": {},
   "outputs": [
    {
     "data": {
      "application/vnd.jupyter.widget-view+json": {
       "model_id": "7f4541864d264ef69a85308b8681a79b",
       "version_major": 2,
       "version_minor": 0
      },
      "text/plain": [
       "Canvas(toolbar=Toolbar(toolitems=[('Home', 'Reset original view', 'home', 'home'), ('Back', 'Back to previous …"
      ]
     },
     "metadata": {},
     "output_type": "display_data"
    },
    {
     "name": "stderr",
     "output_type": "stream",
     "text": [
      "/Users/Paul/anaconda3/envs/py38/lib/python3.7/site-packages/ipykernel_launcher.py:35: UserWarning: This figure was using constrained_layout==True, but that is incompatible with subplots_adjust and or tight_layout: setting constrained_layout==False. \n"
     ]
    }
   ],
   "source": [
    "sns.set()\n",
    "fig = plt.figure(constrained_layout=True, figsize=(20, 8.5))\n",
    "fig.suptitle('Electron Microscopy - Neuronal Cell Body Segmentation Results', fontsize=24)\n",
    "font_size=12\n",
    "gs = GridSpec(2, 5, figure=fig)\n",
    "ax1 = fig.add_subplot(gs[:, :2])\n",
    "ax2 = fig.add_subplot(gs[0, 2])\n",
    "#ax3 = fig.add_subplot(gs[0, 3])\n",
    "#ax4 = fig.add_subplot(gs[0, 4])\n",
    "ax5 = fig.add_subplot(gs[1, 2])\n",
    "ax6 = fig.add_subplot(gs[1, 3])\n",
    "ax7 = fig.add_subplot(gs[1, 4])\n",
    "\n",
    "benchmark_best.plot_ap_curves(ax1, fontsize=12)\n",
    "ax1.set_title('Average Precision across IoU thresholds')\n",
    "\n",
    "ax2 = benchmark_best.plot_error_bars(ax2, metric='mAP @ 0.5:0.95', title='mean Average Precision (mAP) @ 0.5:0.95', fontsize=font_size, set_legend=True, legend_loc='lower left')\n",
    "#ax3 = benchmark_best.plot_error_bars(ax3, metric='AP @ 0.5', title='Average Precision (AP) @ 0.5', fontsize=font_size, set_legend=True)\n",
    "#ax4 = benchmark_best.plot_error_bars(ax4, metric='AP @ 0.75', title='Average Precision (AP) @ 0.75', fontsize=font_size, set_legend=True, legend_loc='lower left')\n",
    "ax2.set_ylim([0.0, 1.2])\n",
    "#ax3.set_ylim([0.0, 1.2])\n",
    "#ax4.set_ylim([0.0, 1.2])\n",
    "\n",
    "ax5 = benchmark_best.plot_error_bars(ax5, metric='adc', title='ADC', fontsize=font_size, set_legend=True, legend_loc='upper left')\n",
    "ax6 = benchmark_best.plot_error_bars(ax6, metric='adpc', title='ADPC (FN Error)', fontsize=font_size, set_legend=True, legend_loc='upper left')\n",
    "ax7 = benchmark_best.plot_error_bars(ax7, metric='adgc', title='ADGC (FP Error)', fontsize=font_size, set_legend=True, legend_loc='upper left')\n",
    "ax5.set_ylim([0.0, 1.0])\n",
    "ax6.set_ylim([0.0, 1.0])\n",
    "ax7.set_ylim([0.0, 1.0])\n",
    "\n",
    "ax5.set_ylabel('Euclidean Distance [µm]', fontsize=font_size)\n",
    "mpl.rcParams['xtick.labelsize'] = 12\n",
    "mpl.rcParams['ytick.labelsize'] = 12\n",
    "\n",
    "plt.tight_layout()\n",
    "\n",
    "#plt.savefig('EM.png')"
   ]
  },
  {
   "cell_type": "code",
   "execution_count": 13,
   "id": "f4925612",
   "metadata": {},
   "outputs": [
    {
     "name": "stdout",
     "output_type": "stream",
     "text": [
      "PyTC (2nd run)\n",
      "AP @ 0.5: 0.829267\n",
      "AP @ 0.75: 0.414850\n",
      "-------------------\n",
      "PyTC\n",
      "AP @ 0.5: 0.914925\n",
      "AP @ 0.75: 0.773051\n",
      "-------------------\n",
      "Cellpose (500 Epochs)\n",
      "AP @ 0.5: 0.348735\n",
      "AP @ 0.75: 0.254115\n",
      "-------------------\n"
     ]
    }
   ],
   "source": [
    "for i in range(3):\n",
    "    print(benchmarkers[i].name)\n",
    "    print('AP @ 0.5: {:.6f}'.format(benchmarkers[i].get_all_stats()['AP @ 0.5']))\n",
    "    print('AP @ 0.75: {:.6f}'.format(benchmarkers[i].get_all_stats()['AP @ 0.75']))\n",
    "    #print(benchmarkers[i].get_all_stats()['AP @ 0.9'])\n",
    "    #print(benchmarkers[i].get_all_stats()['Average Precision'][:, 1])\n",
    "    print('-------------------')\n",
    "np.set_printoptions(threshold=sys.maxsize)\n",
    "#benchmarkers[0].get_all_stats()['Precision']"
   ]
  },
  {
   "cell_type": "code",
   "execution_count": null,
   "id": "cc6bb651",
   "metadata": {},
   "outputs": [],
   "source": []
  },
  {
   "cell_type": "code",
   "execution_count": 24,
   "id": "18e59234",
   "metadata": {},
   "outputs": [
    {
     "name": "stdout",
     "output_type": "stream",
     "text": [
      "(16, 16, 16)\n"
     ]
    }
   ],
   "source": [
    "vol = io.imread(path+'example_data/box13.tif')\n",
    "print(vol.shape)"
   ]
  },
  {
   "cell_type": "code",
   "execution_count": 25,
   "id": "41f34724",
   "metadata": {},
   "outputs": [
    {
     "name": "stdout",
     "output_type": "stream",
     "text": [
      "(16, 16, 16, 3)\n"
     ]
    }
   ],
   "source": [
    "from CellAnalysis.utils import label2rgb_3D\n",
    "\n",
    "image = label2rgb_3D(box13_sd_5000, vol, alpha=0.4)\n",
    "print(image.shape)"
   ]
  },
  {
   "cell_type": "code",
   "execution_count": null,
   "id": "7d57edeb",
   "metadata": {},
   "outputs": [],
   "source": []
  },
  {
   "cell_type": "code",
   "execution_count": 26,
   "id": "22fa5f46",
   "metadata": {},
   "outputs": [
    {
     "data": {
      "application/vnd.jupyter.widget-view+json": {
       "model_id": "e55bed97e4eb4565a67968b05f76c245",
       "version_major": 2,
       "version_minor": 0
      },
      "text/plain": [
       "Canvas(toolbar=Toolbar(toolitems=[('Home', 'Reset original view', 'home', 'home'), ('Back', 'Back to previous …"
      ]
     },
     "metadata": {},
     "output_type": "display_data"
    },
    {
     "name": "stderr",
     "output_type": "stream",
     "text": [
      "/Users/Paul/anaconda3/envs/py38/lib/python3.7/site-packages/ipykernel_launcher.py:48: UserWarning: This figure was using constrained_layout==True, but that is incompatible with subplots_adjust and or tight_layout: setting constrained_layout==False. \n"
     ]
    }
   ],
   "source": [
    "import matplotlib.animation as animation\n",
    "sns.set()\n",
    "fig = plt.figure(constrained_layout=True, figsize=(20, 8.5))\n",
    "fig.suptitle('Electron Microscopy - Neuronal Cell Body Segmentation Results', fontsize=24)\n",
    "font_size=12\n",
    "gs = GridSpec(2, 5, figure=fig)\n",
    "ax1 = fig.add_subplot(gs[:, :2])\n",
    "ax2 = fig.add_subplot(gs[0, 2])\n",
    "ax3 = fig.add_subplot(gs[:, 4:6])\n",
    "#ax3 = fig.add_subplot(gs[0, 3])\n",
    "#ax4 = fig.add_subplot(gs[0, 4])\n",
    "ax5 = fig.add_subplot(gs[0, 3])\n",
    "ax6 = fig.add_subplot(gs[1, 2])\n",
    "ax7 = fig.add_subplot(gs[1, 3])\n",
    "\n",
    "benchmark_best.plot_ap_curves(ax1, fontsize=12)\n",
    "ax1.set_title('Average Precision across IoU thresholds')\n",
    "\n",
    "ax2 = benchmark_best.plot_error_bars(ax2, metric='mAP @ 0.5:0.95', title='mean Average Precision (mAP) @ 0.5:0.95', fontsize=font_size, set_legend=True, legend_loc='lower left')\n",
    "#ax3 = benchmark_best.plot_error_bars(ax3, metric='AP @ 0.5', title='Average Precision (AP) @ 0.5', fontsize=font_size, set_legend=True)\n",
    "#ax4 = benchmark_best.plot_error_bars(ax4, metric='AP @ 0.75', title='Average Precision (AP) @ 0.75', fontsize=font_size, set_legend=True, legend_loc='lower left')\n",
    "ax2.set_ylim([0.0, 1.2])\n",
    "#ax3.set_ylim([0.0, 1.2])\n",
    "#ax4.set_ylim([0.0, 1.2])\n",
    "\n",
    "ax5 = benchmark_best.plot_error_bars(ax5, metric='adc', title='ADC', fontsize=font_size, set_legend=True, legend_loc='upper left')\n",
    "ax6 = benchmark_best.plot_error_bars(ax6, metric='adpc', title='ADPC (FN Error)', fontsize=font_size, set_legend=True, legend_loc='upper left')\n",
    "ax7 = benchmark_best.plot_error_bars(ax7, metric='adgc', title='ADGC (FP Error)', fontsize=font_size, set_legend=True, legend_loc='upper left')\n",
    "ax5.set_ylim([0.0, 1.0])\n",
    "ax6.set_ylim([0.0, 1.0])\n",
    "ax7.set_ylim([0.0, 1.0])\n",
    "\n",
    "ax5.set_ylabel('Euclidean Distance [µm]', fontsize=font_size)\n",
    "mpl.rcParams['xtick.labelsize'] = 12\n",
    "mpl.rcParams['ytick.labelsize'] = 12\n",
    "\n",
    "ax3.set_xticks([])\n",
    "ax3.set_yticks([])\n",
    "ax3.set_title('Cellpose Segmentation Results')\n",
    "ax3.grid(False)\n",
    "ims = []\n",
    "for i in range(16):\n",
    "    im = ax3.imshow(image[i], animated=True)\n",
    "    ims.append([im])\n",
    "\n",
    "ani = animation.ArtistAnimation(fig, ims, interval=50, blit=True,\n",
    "                                repeat_delay=1000)\n",
    "plt.tight_layout()\n",
    "plt.show()\n",
    "#plt.savefig('EM.png')\n",
    "\n",
    "\n",
    "# ims is a list of lists, each row is a list of artists to draw in the\n",
    "# current frame; here we are just animating one artist, the image, in\n",
    "# each frame\n",
    "\n",
    "\n",
    "#ani.save('dynamic_images.gif', writer='imagemagick', fps=0.5)\n",
    "\n"
   ]
  },
  {
   "cell_type": "code",
   "execution_count": 31,
   "id": "0f25dbb6",
   "metadata": {},
   "outputs": [],
   "source": [
    "model_names  = ['box12', 'box13', 'box7']\n",
    "benchmarkers = []\n",
    "for i, sd in enumerate(sd_5000):\n",
    "    #print(gt[i].shape)\n",
    "    #print(data[0])\n",
    "    name = model_names[i]\n",
    "    benchmarker = Eval(gt[i], sd, resolution=(0.51, 0.51, 0.51), model_name=name, name_data='EM data')\n",
    "    benchmarker.accumulate()\n",
    "    benchmarkers.append(benchmarker)"
   ]
  },
  {
   "cell_type": "code",
   "execution_count": 32,
   "id": "6d9f9b97",
   "metadata": {},
   "outputs": [
    {
     "data": {
      "application/vnd.jupyter.widget-view+json": {
       "model_id": "6b1afd10bd144bc2a73b7552a40950fd",
       "version_major": 2,
       "version_minor": 0
      },
      "text/plain": [
       "Canvas(toolbar=Toolbar(toolitems=[('Home', 'Reset original view', 'home', 'home'), ('Back', 'Back to previous …"
      ]
     },
     "metadata": {},
     "output_type": "display_data"
    }
   ],
   "source": [
    "fig, (ax1) = plt.subplots(1, 1, figsize=(12, 8))\n",
    "fig.suptitle('Comparison of training length and predictive performance', fontsize=25)\n",
    "benchmark = Benchmarker(benchmarkers)\n",
    "benchmark.plot_ap_curves(ax1)"
   ]
  },
  {
   "cell_type": "code",
   "execution_count": null,
   "id": "3cadaa9b",
   "metadata": {},
   "outputs": [],
   "source": []
  }
 ],
 "metadata": {
  "kernelspec": {
   "display_name": "Python 3",
   "language": "python",
   "name": "python3"
  },
  "language_info": {
   "codemirror_mode": {
    "name": "ipython",
    "version": 3
   },
   "file_extension": ".py",
   "mimetype": "text/x-python",
   "name": "python",
   "nbconvert_exporter": "python",
   "pygments_lexer": "ipython3",
   "version": "3.7.0"
  }
 },
 "nbformat": 4,
 "nbformat_minor": 5
}
