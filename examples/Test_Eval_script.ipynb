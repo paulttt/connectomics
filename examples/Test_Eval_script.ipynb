{
 "cells": [
  {
   "cell_type": "code",
   "execution_count": 29,
   "id": "alike-elevation",
   "metadata": {},
   "outputs": [
    {
     "name": "stdout",
     "output_type": "stream",
     "text": [
      "/Users/Paul/Harvard/Code/connectomics/\n"
     ]
    }
   ],
   "source": [
    "%matplotlib widget\n",
    "import os\n",
    "import sys\n",
    "path = os.path.dirname(os.path.abspath(\"\"))+\"/\"\n",
    "sys.path.append(path)\n",
    "sys.path.insert(1, path+'cellpose/')\n",
    "print(path)"
   ]
  },
  {
   "cell_type": "code",
   "execution_count": 30,
   "id": "accredited-subscriber",
   "metadata": {},
   "outputs": [],
   "source": [
    "from skimage import io\n",
    "import matplotlib.pyplot as plt\n",
    "import matplotlib as mpl\n",
    "import numpy as np"
   ]
  },
  {
   "cell_type": "code",
   "execution_count": 31,
   "id": "adjacent-needle",
   "metadata": {},
   "outputs": [],
   "source": [
    "# file root\n",
    "file_root = path + 'data/EM/'\n",
    "\n",
    "\n",
    "box12_gt = io.imread(file_root + 'testing/box12_GT.tif')\n",
    "box12_pc_old = io.imread(file_root + 'testing/box12_PC_OLD.tif')\n",
    "box12_pc_new = io.imread(file_root + 'testing/box12_PC_NEW.tif')\n",
    "box12_sd_400 = io.imread(file_root + 'testing/box12_SD_400.tif')\n",
    "box12_sd_1000 = io.imread(file_root + 'testing/box12_SD_1000.tif')\n",
    "box12_cp_cutoff = io.imread(file_root + 'testing/box12_CP_CO.tif')\n",
    "box12_cp_untrained = io.imread(file_root + 'testing/box12_CP_UT.tif')\n",
    "box12_cp_500 = io.imread(file_root + 'testing/box12_CP_500.tif')\n",
    "box12_cp_1000 = io.imread(file_root + 'testing/box12_CP_1000.tif')\n",
    "box12_cp_2000 = io.imread(file_root + 'testing/box12_CP_2000.tif')\n",
    "box12_cp_5000 = io.imread(file_root + 'testing/box12_CP_5000.tif')\n",
    "\n",
    "box13_gt = io.imread(file_root + 'testing/box13_GT.tif')\n",
    "box13_pc_old = io.imread(file_root + 'testing/box13_PC_OLD.tif')\n",
    "box13_pc_new = io.imread(file_root + 'testing/box13_PC_NEW.tif')\n",
    "box13_sd_400 = io.imread(file_root + 'testing/box13_SD_400.tif')\n",
    "box13_sd_1000 = io.imread(file_root + 'testing/box13_SD_1000.tif')\n",
    "box13_cp_cutoff = io.imread(file_root + 'testing/box13_CP_CO.tif')\n",
    "box13_cp_untrained = io.imread(file_root + 'testing/box13_CP_UT.tif')\n",
    "box13_cp_500 = io.imread(file_root + 'testing/box13_CP_500.tif')\n",
    "box13_cp_1000 = io.imread(file_root + 'testing/box13_CP_1000.tif')\n",
    "box13_cp_2000 = io.imread(file_root + 'testing/box13_CP_2000.tif')\n",
    "box13_cp_5000 = io.imread(file_root + 'testing/box13_CP_5000.tif')\n",
    "\n",
    "box7_gt = io.imread(file_root + 'testing/box7_GT.tif')\n",
    "box7_pc_old = io.imread(file_root + 'testing/box7_PC_OLD.tif')\n",
    "box7_pc_new = io.imread(file_root + 'testing/box7_PC_NEW.tif')\n",
    "box7_sd_400 = io.imread(file_root + 'testing/box7_SD_400.tif')\n",
    "box7_sd_1000 = io.imread(file_root + 'testing/box7_SD_1000.tif')\n",
    "box7_cp_cutoff = io.imread(file_root + 'testing/box7_CP_CO.tif')\n",
    "box7_cp_untrained = io.imread(file_root + 'testing/box7_CP_UT.tif')\n",
    "box7_cp_500 = io.imread(file_root + 'testing/box7_CP_500.tif')\n",
    "box7_cp_1000 = io.imread(file_root + 'testing/box7_CP_1000.tif')\n",
    "box7_cp_2000 = io.imread(file_root + 'testing/box7_CP_2000.tif')\n",
    "box7_cp_5000 = io.imread(file_root + 'testing/box7_CP_5000.tif')"
   ]
  },
  {
   "cell_type": "code",
   "execution_count": 33,
   "id": "african-activation",
   "metadata": {},
   "outputs": [],
   "source": [
    "gt = [box12_gt, box13_gt, box7_gt]\n",
    "pc_old = [box12_pc_old, box13_pc_old, box7_pc_old]\n",
    "\n",
    "pc_new = [box12_pc_new, box13_pc_new, box7_pc_new]\n",
    "sd_400 = [box12_sd_400, box13_sd_400, box7_sd_400]\n",
    "sd_1000 = [box12_sd_1000, box13_sd_1000, box7_sd_1000]\n",
    "cp_cutoff = [box12_cp_cutoff, box13_cp_cutoff, box7_cp_cutoff]\n",
    "cp_untrained = [box12_cp_untrained, box13_cp_untrained, box7_cp_untrained]\n",
    "cp_500 = [box12_cp_500, box13_cp_500, box7_cp_500]\n",
    "cp_1000 = [box12_cp_1000, box13_cp_1000, box7_cp_1000]\n",
    "cp_2000 = [box12_cp_2000, box13_cp_2000, box7_cp_2000]\n",
    "cp_5000 = [box12_cp_5000, box13_cp_5000, box7_cp_5000]\n",
    "\n",
    "models = [pc_old, pc_new, sd_400, sd_1000, cp_cutoff, cp_untrained, cp_500, cp_1000, cp_2000, cp_5000]"
   ]
  },
  {
   "cell_type": "code",
   "execution_count": 34,
   "id": "broke-chuck",
   "metadata": {},
   "outputs": [
    {
     "name": "stdout",
     "output_type": "stream",
     "text": [
      "Accumulating evaluation results...\n",
      "DONE (t=0.02s).\n",
      "Accumulating evaluation results...\n",
      "DONE (t=0.00s).\n",
      "Accumulating evaluation results...\n",
      "DONE (t=0.01s).\n",
      "Accumulating evaluation results...\n",
      "DONE (t=0.00s).\n",
      "Accumulating evaluation results...\n",
      "DONE (t=0.01s).\n",
      "Accumulating evaluation results...\n",
      "DONE (t=0.00s).\n",
      "Accumulating evaluation results...\n",
      "DONE (t=0.01s).\n",
      "Accumulating evaluation results...\n",
      "DONE (t=0.00s).\n",
      "Accumulating evaluation results...\n",
      "DONE (t=0.02s).\n",
      "Accumulating evaluation results...\n",
      "DONE (t=0.01s).\n",
      "Accumulating evaluation results...\n",
      "DONE (t=0.00s).\n",
      "Accumulating evaluation results...\n",
      "DONE (t=0.00s).\n",
      "Accumulating evaluation results...\n",
      "DONE (t=0.00s).\n",
      "Accumulating evaluation results...\n",
      "DONE (t=0.01s).\n",
      "Accumulating evaluation results...\n",
      "DONE (t=0.01s).\n",
      "Accumulating evaluation results...\n",
      "DONE (t=0.01s).\n",
      "Accumulating evaluation results...\n",
      "DONE (t=0.00s).\n",
      "Accumulating evaluation results...\n",
      "DONE (t=0.01s).\n",
      "Accumulating evaluation results...\n",
      "DONE (t=0.01s).\n",
      "Accumulating evaluation results...\n",
      "DONE (t=0.01s).\n",
      "Accumulating evaluation results...\n",
      "DONE (t=0.00s).\n",
      "Accumulating evaluation results...\n",
      "DONE (t=0.00s).\n",
      "Accumulating evaluation results...\n",
      "DONE (t=0.04s).\n",
      "Accumulating evaluation results...\n",
      "DONE (t=0.00s).\n",
      "Accumulating evaluation results...\n",
      "DONE (t=0.00s).\n",
      "Accumulating evaluation results...\n",
      "DONE (t=0.00s).\n",
      "Accumulating evaluation results...\n",
      "DONE (t=0.03s).\n",
      "Accumulating evaluation results...\n",
      "DONE (t=0.00s).\n",
      "Accumulating evaluation results...\n",
      "DONE (t=0.00s).\n",
      "Accumulating evaluation results...\n",
      "DONE (t=0.01s).\n"
     ]
    }
   ],
   "source": [
    "from CellAnalysis.eval import Eval\n",
    "model_names = ['pytorch_connectomics (old)', 'pytorch_connectomics (new)', 'Stardist(400 Epochs)', 'Stardist(1000 Epochs)', 'Cellpose w/ Cutoff', 'Cellpose (untrained)', 'Cellpose (500 Epochs)', 'Cellpose (1000 Epochs)', 'Cellpose (2000 Epochs)', 'Cellpose (5000 Epochs)']\n",
    "benchmarkers = []\n",
    "\n",
    "for data, name in zip(models, model_names):\n",
    "    benchmarker = Eval(gt, data, resolution=(0.51, 0.51, 0.51), model_name=name, name_data='EM data')\n",
    "    benchmarker.accumulate()\n",
    "    benchmarkers.append(benchmarker)"
   ]
  },
  {
   "cell_type": "code",
   "execution_count": 35,
   "id": "fiscal-cruise",
   "metadata": {},
   "outputs": [],
   "source": [
    "from CellAnalysis.eval import Benchmarker\n",
    "benchmark = Benchmarker(benchmarkers)"
   ]
  },
  {
   "cell_type": "code",
   "execution_count": 36,
   "id": "fleet-olympus",
   "metadata": {},
   "outputs": [
    {
     "data": {
      "application/vnd.jupyter.widget-view+json": {
       "model_id": "58b1a08b708f43499f680933971a73e4",
       "version_major": 2,
       "version_minor": 0
      },
      "text/plain": [
       "Canvas(toolbar=Toolbar(toolitems=[('Home', 'Reset original view', 'home', 'home'), ('Back', 'Back to previous …"
      ]
     },
     "metadata": {},
     "output_type": "display_data"
    }
   ],
   "source": [
    "benchmark.plot_ap_curves()"
   ]
  },
  {
   "cell_type": "code",
   "execution_count": 21,
   "id": "becoming-broadcasting",
   "metadata": {},
   "outputs": [
    {
     "name": "stdout",
     "output_type": "stream",
     "text": [
      "----------------------------------------------------------------------------------------------------\n",
      "Compute distance metrics for pytorch_connectomics for EM data...\n",
      "\n",
      "Average Distance between Centroids for pytorch_connectomics:                           0.486 ± 0.123\n",
      "Average Distance between Prediction Centroids for pytorch_connectomics:                0.560 ± 0.139\n",
      "Average Distance between Ground Truth Centroids for pytorch_connectomics:              0.413 ± 0.108\n",
      "----------------------------------------------------------------------------------------------------\n",
      "----------------------------------------------------------------------------------------------------\n",
      "Compute distance metrics for Stardist(400 Epochs) for EM data...\n",
      "\n",
      "Average Distance between Centroids for Stardist(400 Epochs):                           0.497 ± 0.121\n",
      "Average Distance between Prediction Centroids for Stardist(400 Epochs):                0.301 ± 0.068\n",
      "Average Distance between Ground Truth Centroids for Stardist(400 Epochs):              0.693 ± 0.175\n",
      "----------------------------------------------------------------------------------------------------\n",
      "----------------------------------------------------------------------------------------------------\n",
      "Compute distance metrics for Stardist(1000 Epochs) for EM data...\n",
      "\n",
      "Average Distance between Centroids for Stardist(1000 Epochs):                          0.336 ± 0.107\n",
      "Average Distance between Prediction Centroids for Stardist(1000 Epochs):               0.259 ± 0.067\n",
      "Average Distance between Ground Truth Centroids for Stardist(1000 Epochs):             0.414 ± 0.147\n",
      "----------------------------------------------------------------------------------------------------\n",
      "----------------------------------------------------------------------------------------------------\n",
      "Compute distance metrics for Cellpose w/ Cutoff for EM data...\n",
      "\n",
      "Average Distance between Centroids for Cellpose w/ Cutoff:                             0.207 ± 0.065\n",
      "Average Distance between Prediction Centroids for Cellpose w/ Cutoff:                  0.237 ± 0.081\n",
      "Average Distance between Ground Truth Centroids for Cellpose w/ Cutoff:                0.177 ± 0.049\n",
      "----------------------------------------------------------------------------------------------------\n",
      "----------------------------------------------------------------------------------------------------\n",
      "Compute distance metrics for Cellpose (untrained) for EM data...\n",
      "\n",
      "Average Distance between Centroids for Cellpose (untrained):                           0.207 ± 0.065\n",
      "Average Distance between Prediction Centroids for Cellpose (untrained):                0.237 ± 0.081\n",
      "Average Distance between Ground Truth Centroids for Cellpose (untrained):              0.177 ± 0.049\n",
      "----------------------------------------------------------------------------------------------------\n",
      "----------------------------------------------------------------------------------------------------\n",
      "Compute distance metrics for Cellpose (1000 Epochs) for EM data...\n",
      "\n",
      "Average Distance between Centroids for Cellpose (1000 Epochs):                         0.292 ± 0.103\n",
      "Average Distance between Prediction Centroids for Cellpose (1000 Epochs):              0.376 ± 0.148\n",
      "Average Distance between Ground Truth Centroids for Cellpose (1000 Epochs):            0.209 ± 0.058\n",
      "----------------------------------------------------------------------------------------------------\n",
      "----------------------------------------------------------------------------------------------------\n",
      "Compute distance metrics for Cellpose (2000 Epochs) for EM data...\n",
      "\n",
      "Average Distance between Centroids for Cellpose (2000 Epochs):                         0.236 ± 0.102\n",
      "Average Distance between Prediction Centroids for Cellpose (2000 Epochs):              0.232 ± 0.107\n",
      "Average Distance between Ground Truth Centroids for Cellpose (2000 Epochs):            0.241 ± 0.098\n",
      "----------------------------------------------------------------------------------------------------\n",
      "----------------------------------------------------------------------------------------------------\n",
      "Compute distance metrics for Cellpose (5000 Epochs) for EM data...\n",
      "\n",
      "Average Distance between Centroids for Cellpose (5000 Epochs):                         0.240 ± 0.093\n",
      "Average Distance between Prediction Centroids for Cellpose (5000 Epochs):              0.295 ± 0.122\n",
      "Average Distance between Ground Truth Centroids for Cellpose (5000 Epochs):            0.185 ± 0.063\n",
      "----------------------------------------------------------------------------------------------------\n"
     ]
    }
   ],
   "source": [
    "benchmark.show_adc_scores()"
   ]
  },
  {
   "cell_type": "code",
   "execution_count": null,
   "id": "micro-header",
   "metadata": {},
   "outputs": [],
   "source": []
  }
 ],
 "metadata": {
  "kernelspec": {
   "display_name": "Python 3",
   "language": "python",
   "name": "python3"
  },
  "language_info": {
   "codemirror_mode": {
    "name": "ipython",
    "version": 3
   },
   "file_extension": ".py",
   "mimetype": "text/x-python",
   "name": "python",
   "nbconvert_exporter": "python",
   "pygments_lexer": "ipython3",
   "version": "3.7.0"
  }
 },
 "nbformat": 4,
 "nbformat_minor": 5
}
