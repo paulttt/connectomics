{
 "cells": [
  {
   "cell_type": "code",
   "execution_count": 2,
   "id": "bd20ceb3",
   "metadata": {},
   "outputs": [
    {
     "name": "stdout",
     "output_type": "stream",
     "text": [
      "/Users/Paul/Harvard/Code/connectomics/\n"
     ]
    }
   ],
   "source": [
    "%matplotlib widget\n",
    "import os\n",
    "import sys\n",
    "path = os.path.dirname(os.path.abspath(\"\"))+\"/\"\n",
    "sys.path.append(path)\n",
    "print(path)"
   ]
  },
  {
   "cell_type": "code",
   "execution_count": 3,
   "id": "dea9a34c",
   "metadata": {},
   "outputs": [],
   "source": [
    "from skimage import io\n",
    "import matplotlib.pyplot as plt\n",
    "import matplotlib as mpl\n",
    "import numpy as np\n",
    "import glob\n",
    "from CellAnalysis.eval import Eval\n",
    "from CellAnalysis.eval import Benchmarker\n",
    "from matplotlib.gridspec import GridSpec\n",
    "import seaborn as sns"
   ]
  },
  {
   "cell_type": "code",
   "execution_count": 4,
   "id": "e99b31a5",
   "metadata": {},
   "outputs": [],
   "source": [
    "def load_2d_masks(root_dir, mask_list=None, keyword='mask', ignore_keyword=False, dtype=np.uint16):\n",
    "    if mask_list is None:\n",
    "        mask_list = []\n",
    "    for name in sorted(glob.glob(root_dir + '*')):\n",
    "        if keyword in name:\n",
    "            if ignore_keyword:\n",
    "                continue\n",
    "            else:\n",
    "                mask_list.append(io.imread(name).astype(dtype))\n",
    "        elif ignore_keyword:\n",
    "            mask_list.append(io.imread(name).astype(dtype))\n",
    "        else:\n",
    "            continue\n",
    "    return mask_list"
   ]
  },
  {
   "cell_type": "code",
   "execution_count": 5,
   "id": "5d26227b",
   "metadata": {},
   "outputs": [],
   "source": [
    "# file root\n",
    "file_root_0 = path + 'data/2P_functional/testing/'\n",
    "\n",
    "file_root_1 = path + 'data/2P_functional/CP/cp_500epochs/benchmarking/'\n",
    "file_root_2 = path + 'data/2P_functional/CP/cp_1000epochs/benchmarking/'\n",
    "file_root_3 = path + 'data/2P_functional/CP/cp_2000epochs/benchmarking/'\n",
    "file_root_4 = path + 'data/2P_functional/CP/cp_5000epochs/benchmarking/'\n",
    "file_root_5 = path + 'data/2P_functional/CP/cp_notrain_autodiam/benchmarking/'\n",
    "file_root_6 = path + 'data/2P_functional/CP/cp_notrain_diam9/benchmarking/'\n",
    "file_root_7 = path + 'data/2P_functional/PyTC/PyC/benchmarking/'\n",
    "file_root_8 = path + 'data/2P_functional/SD/sd_500epochs/benchmarking/'\n",
    "file_root_9 = path + 'data/2P_functional/SD/sd_1000epochs/benchmarking/'\n",
    "file_root_10 = path + 'data/2P_functional/SD/sd_2000epochs/benchmarking/'\n",
    "file_root_11 = path + 'data/2P_functional/old/GT/'\n",
    "\n",
    "vol_list = load_2d_masks(file_root_0, keyword='mask', ignore_keyword=True)\n",
    "image_stack = np.array(vol_list)\n",
    "\n",
    "gt = load_2d_masks(file_root_0, keyword='masks')\n",
    "old_gt = load_2d_masks(file_root_11, keyword='masks')\n",
    "\n",
    "cp_500 = load_2d_masks(file_root_1, keyword='masks')\n",
    "cp_1000 = load_2d_masks(file_root_2, keyword='masks')\n",
    "cp_2000 = load_2d_masks(file_root_3, keyword='masks')\n",
    "cp_5000 = load_2d_masks(file_root_4, keyword='masks')\n",
    "cp_nt_autodiam = load_2d_masks(file_root_5, keyword='masks')\n",
    "cp_nt_diam9 = load_2d_masks(file_root_6, keyword='masks')\n",
    "\n",
    "pc = load_2d_masks(file_root_7, keyword='box')\n",
    "\n",
    "sd_500 = load_2d_masks(file_root_8, keyword='box')\n",
    "sd_1000 = load_2d_masks(file_root_9, keyword='box')\n",
    "sd_2000 = load_2d_masks(file_root_10, keyword='box')"
   ]
  },
  {
   "cell_type": "code",
   "execution_count": 6,
   "id": "4a1ce653",
   "metadata": {
    "scrolled": true
   },
   "outputs": [
    {
     "name": "stdout",
     "output_type": "stream",
     "text": [
      "PyTC\n"
     ]
    },
    {
     "name": "stderr",
     "output_type": "stream",
     "text": [
      "/Users/Paul/anaconda3/envs/py38/lib/python3.7/site-packages/numpy/core/_methods.py:262: RuntimeWarning: Degrees of freedom <= 0 for slice\n",
      "  keepdims=keepdims, where=where)\n",
      "/Users/Paul/anaconda3/envs/py38/lib/python3.7/site-packages/numpy/core/_methods.py:253: RuntimeWarning: invalid value encountered in double_scalars\n",
      "  ret = ret.dtype.type(ret / rcount)\n"
     ]
    },
    {
     "name": "stdout",
     "output_type": "stream",
     "text": [
      "Cellpose (500 Epochs)\n",
      "Cellpose (1000 Epochs)\n",
      "Cellpose (2000 Epochs)\n",
      "Cellpose (5000 Epochs)\n",
      "Cellpose (untrained & autodiam)\n",
      "Cellpose (untrained & diam9)\n",
      "Stardist (500 Epochs)\n",
      "Stardist (1000 Epochs)\n",
      "Stardist (2000 Epochs)\n"
     ]
    },
    {
     "data": {
      "text/plain": [
       "\"\\nmodels = [pc]\\nmodel_names = ['PyTC']\\nfor i, (data, name) in enumerate(zip(models, model_names)):\\n    print(name)\\n    temp_gt = old_gt.copy()\\n    temp_pred = data.copy()\\n    for i, (gt_instance, pred_instance) in enumerate(zip(temp_gt, temp_pred)):\\n        if np.unique(pred_instance).shape[0] == 1:\\n            temp_pred.pop(i)\\n            temp_gt.pop(i)\\n    benchmarker = Eval(temp_gt, temp_pred, resolution=(0.6, 0.6), model_name=name, name_data='2P Functional Planes')\\n    benchmarker.accumulate()\\n    benchmarkers.append(benchmarker)\\n\""
      ]
     },
     "execution_count": 6,
     "metadata": {},
     "output_type": "execute_result"
    }
   ],
   "source": [
    "models = [pc, cp_500, cp_1000, cp_2000, cp_5000, cp_nt_autodiam, cp_nt_diam9, sd_500, sd_1000, sd_2000]\n",
    "model_names = ['PyTC', 'Cellpose (500 Epochs)', 'Cellpose (1000 Epochs)', 'Cellpose (2000 Epochs)', 'Cellpose (5000 Epochs)', 'Cellpose (untrained & autodiam)', 'Cellpose (untrained & diam9)', 'Stardist (500 Epochs)', 'Stardist (1000 Epochs)', 'Stardist (2000 Epochs)']\n",
    "benchmarkers = []\n",
    "\n",
    "for i, (data, name) in enumerate(zip(models, model_names)):\n",
    "    print(name)\n",
    "    temp_gt = gt.copy()\n",
    "    temp_pred = data.copy()\n",
    "    for i, (gt_instance, pred_instance) in enumerate(zip(temp_gt, temp_pred)):\n",
    "        if np.unique(pred_instance).shape[0] == 1:\n",
    "            temp_pred.pop(i)\n",
    "            temp_gt.pop(i)\n",
    "    benchmarker = Eval(temp_gt, temp_pred, resolution=(0.6, 0.6), model_name=name, name_data='2P Functional Planes')\n",
    "    benchmarker.accumulate()\n",
    "    benchmarkers.append(benchmarker)\n",
    "'''\n",
    "models = [pc]\n",
    "model_names = ['PyTC']\n",
    "for i, (data, name) in enumerate(zip(models, model_names)):\n",
    "    print(name)\n",
    "    temp_gt = old_gt.copy()\n",
    "    temp_pred = data.copy()\n",
    "    for i, (gt_instance, pred_instance) in enumerate(zip(temp_gt, temp_pred)):\n",
    "        if np.unique(pred_instance).shape[0] == 1:\n",
    "            temp_pred.pop(i)\n",
    "            temp_gt.pop(i)\n",
    "    benchmarker = Eval(temp_gt, temp_pred, resolution=(0.6, 0.6), model_name=name, name_data='2P Functional Planes')\n",
    "    benchmarker.accumulate()\n",
    "    benchmarkers.append(benchmarker)\n",
    "'''"
   ]
  },
  {
   "cell_type": "code",
   "execution_count": 7,
   "id": "f988df7b",
   "metadata": {},
   "outputs": [],
   "source": [
    "benchmark = Benchmarker(benchmarkers)"
   ]
  },
  {
   "cell_type": "code",
   "execution_count": 8,
   "id": "a5e893e1",
   "metadata": {},
   "outputs": [],
   "source": [
    "benchmark_cp = Benchmarker(benchmarkers[1:7])\n",
    "benchmark_sd = Benchmarker(benchmarkers[7:10])\n",
    "benchmark_pc = Benchmarker([benchmarkers[0]])"
   ]
  },
  {
   "cell_type": "code",
   "execution_count": 9,
   "id": "c03ea5b0",
   "metadata": {},
   "outputs": [
    {
     "data": {
      "application/vnd.jupyter.widget-view+json": {
       "model_id": "10d7e1841c6b47e0b48a026d76006233",
       "version_major": 2,
       "version_minor": 0
      },
      "text/plain": [
       "Canvas(toolbar=Toolbar(toolitems=[('Home', 'Reset original view', 'home', 'home'), ('Back', 'Back to previous …"
      ]
     },
     "metadata": {},
     "output_type": "display_data"
    }
   ],
   "source": [
    "import seaborn as sns\n",
    "from matplotlib.gridspec import GridSpec\n",
    "sns.set()\n",
    "\n",
    "fig, (ax1, ax2, ax3) = plt.subplots(1, 3, figsize=(15, 7), sharey=True)\n",
    "ax1.set_ylim([0.0, 1.0])\n",
    "ax2.set_ylim([0.0, 1.0])\n",
    "ax3.set_ylim([0.0, 1.0])\n",
    "ax1 = benchmark_cp.plot_error_bars(ax1, metric='mAP @ 0.5:0.95', title='Cellpose')\n",
    "ax2 = benchmark_sd.plot_error_bars(ax2, metric='mAP @ 0.5:0.95', title='Stardist')\n",
    "ax3 = benchmark_pc.plot_error_bars(ax3, metric='mAP @ 0.5:0.95', title='PyTC')\n",
    "\n",
    "fig.suptitle(\"Mean Average Precision Scores\")\n",
    "plt.tight_layout()\n",
    "plt.savefig('mAP_Boxplots.png')"
   ]
  },
  {
   "cell_type": "code",
   "execution_count": 10,
   "id": "15cace78",
   "metadata": {},
   "outputs": [
    {
     "data": {
      "application/vnd.jupyter.widget-view+json": {
       "model_id": "db419788d58a477fa33b3f2f3e333ab4",
       "version_major": 2,
       "version_minor": 0
      },
      "text/plain": [
       "Canvas(toolbar=Toolbar(toolitems=[('Home', 'Reset original view', 'home', 'home'), ('Back', 'Back to previous …"
      ]
     },
     "metadata": {},
     "output_type": "display_data"
    }
   ],
   "source": [
    "sns.set()\n",
    "fig, ax = plt.subplots(1, 1, figsize=(10, 8))\n",
    "benchmark.plot_ap_curves(ax)\n",
    "ax.set_title('Average Precision')\n",
    "plt.savefig('AP_Curves.png')"
   ]
  },
  {
   "cell_type": "code",
   "execution_count": 11,
   "id": "d2c25e6a",
   "metadata": {},
   "outputs": [
    {
     "data": {
      "application/vnd.jupyter.widget-view+json": {
       "model_id": "e9eb5a9e1d184015ad7a3e294bc044bd",
       "version_major": 2,
       "version_minor": 0
      },
      "text/plain": [
       "Canvas(toolbar=Toolbar(toolitems=[('Home', 'Reset original view', 'home', 'home'), ('Back', 'Back to previous …"
      ]
     },
     "metadata": {},
     "output_type": "display_data"
    }
   ],
   "source": [
    "sns.set()\n",
    "fig, axes = plt.subplots(1, 3, figsize=(14, 7), sharey=True)\n",
    "fig.suptitle('Average Distance between Centroids (ADC)', fontsize=18)\n",
    "axes[0] = benchmark_cp.plot_error_bars(axes[0], metric='adc', title='ADC')\n",
    "axes[1] = benchmark_sd.plot_error_bars(axes[1], metric='adc', title='ADC')\n",
    "axes[2] = benchmark_pc.plot_error_bars(axes[2], metric='adc', title='ADC')\n",
    "#ax[1] = benchmark_pc.plot_error_bars(ax[1], metric='adgc', title='PyTC')\n",
    "#ax[2] = benchmark_sd.plot_error_bars(ax[2], metric='adgc', title='Stardist')\n",
    "#sns.axlabel(xlabel=\"Models\", ylabel=\"ADC [um]\", fontsize=16, ax=ax)\n",
    "axes[0].set_ylabel('Euclidean Distance [µm]', fontsize=14)\n",
    "plt.tight_layout()\n",
    "plt.savefig('ADC_Boxplots.png')"
   ]
  },
  {
   "cell_type": "code",
   "execution_count": 12,
   "id": "9f1c7c82",
   "metadata": {},
   "outputs": [],
   "source": [
    "benchmarkers[2].name = 'Cellpose'\n",
    "benchmarkers[6].name = 'Cellpose (pretrained)'\n",
    "benchmarkers[7].name = 'Stardist'\n",
    "best = [benchmarkers[2]] + benchmarkers[6:8] + [benchmarkers[0]]\n",
    "best_benchmark = Benchmarker(best)"
   ]
  },
  {
   "cell_type": "code",
   "execution_count": 13,
   "id": "d5f5c157",
   "metadata": {},
   "outputs": [
    {
     "data": {
      "application/vnd.jupyter.widget-view+json": {
       "model_id": "ab088da680ab4493b518c808e9a5af68",
       "version_major": 2,
       "version_minor": 0
      },
      "text/plain": [
       "Canvas(toolbar=Toolbar(toolitems=[('Home', 'Reset original view', 'home', 'home'), ('Back', 'Back to previous …"
      ]
     },
     "metadata": {},
     "output_type": "display_data"
    },
    {
     "name": "stderr",
     "output_type": "stream",
     "text": [
      "/Users/Paul/anaconda3/envs/py38/lib/python3.7/site-packages/ipykernel_launcher.py:33: UserWarning: This figure was using constrained_layout==True, but that is incompatible with subplots_adjust and or tight_layout: setting constrained_layout==False. \n"
     ]
    }
   ],
   "source": [
    "sns.set()\n",
    "fig = plt.figure(constrained_layout=True, figsize=(20, 8.5))\n",
    "fig.suptitle('Two-Photon Functional Planes - Neuronal Cell Body Segmentation Results', fontsize=24)\n",
    "font_size=12\n",
    "gs = GridSpec(2, 5, figure=fig)\n",
    "ax1 = fig.add_subplot(gs[:, :2])\n",
    "ax2 = fig.add_subplot(gs[0, 2])\n",
    "ax3 = fig.add_subplot(gs[0, 3])\n",
    "ax4 = fig.add_subplot(gs[0, 4])\n",
    "ax5 = fig.add_subplot(gs[1, 2])\n",
    "ax6 = fig.add_subplot(gs[1, 3])\n",
    "ax7 = fig.add_subplot(gs[1, 4])\n",
    "\n",
    "best_benchmark.plot_ap_curves(ax1, fontsize=12)\n",
    "ax1.set_title('Average Precision across IoU thresholds')\n",
    "\n",
    "ax2 = best_benchmark.plot_error_bars(ax2, metric='mAP @ 0.5:0.95', title='mean Average Precision (mAP) @ 0.5:0.95', fontsize=font_size)\n",
    "ax2.set_ylim([0.0, 1.0])\n",
    "ax3 = best_benchmark.plot_error_bars(ax3, metric='AP @ 0.5', title='Average Precision (AP) @ 0.5', fontsize=font_size, set_legend=False)\n",
    "ax4 = best_benchmark.plot_error_bars(ax4, metric='AP @ 0.75', title='Average Precision (AP) @ 0.75', fontsize=font_size, set_legend=False)\n",
    "\n",
    "ax5 = best_benchmark.plot_error_bars(ax5, metric='adc', title='ADC', fontsize=font_size)\n",
    "ax6 = best_benchmark.plot_error_bars(ax6, metric='adpc', title='ADPC (FN Error)', fontsize=font_size, set_legend=False)\n",
    "ax7 = best_benchmark.plot_error_bars(ax7, metric='adgc', title='ADGC (FP Error)', fontsize=font_size, set_legend=False)\n",
    "ax5.set_ylim([0.0, 8.0])\n",
    "ax6.set_ylim([0.0, 8.0])\n",
    "ax7.set_ylim([0.0, 8.0])\n",
    "\n",
    "ax5.set_ylabel('Euclidean Distance [µm]', fontsize=font_size)\n",
    "mpl.rcParams['xtick.labelsize'] = 12\n",
    "mpl.rcParams['ytick.labelsize'] = 12\n",
    "\n",
    "plt.tight_layout()\n",
    "\n",
    "plt.savefig(path+'figures/2P_Functional.png')"
   ]
  },
  {
   "cell_type": "code",
   "execution_count": 16,
   "id": "ff96aec4",
   "metadata": {},
   "outputs": [
    {
     "data": {
      "application/vnd.jupyter.widget-view+json": {
       "model_id": "9a60c1586c734150b9353884b92f65d4",
       "version_major": 2,
       "version_minor": 0
      },
      "text/plain": [
       "Canvas(toolbar=Toolbar(toolitems=[('Home', 'Reset original view', 'home', 'home'), ('Back', 'Back to previous …"
      ]
     },
     "metadata": {},
     "output_type": "display_data"
    }
   ],
   "source": [
    "import random\n",
    "from CellAnalysis.utils import label2rgb_3D\n",
    "rows = 6\n",
    "columns = 8\n",
    "fig, axes = plt.subplots(rows, columns, figsize=(columns*3, rows*3))\n",
    "#indices = np.random.randint(0, image_stack.shape[0], rows*columns)\n",
    "#indices = [index for index in random.sample(range(image_stack.shape[0]), rows*columns)]\n",
    "axes[0, 0].set_title('PyC Prediction')\n",
    "axes[0, 1].set_title('GT Mask')\n",
    "axes[0, 2].set_title('PyC Prediction')\n",
    "axes[0, 3].set_title('GT Mask')\n",
    "axes[0, 4].set_title('PyC Prediction')\n",
    "axes[0, 5].set_title('GT Mask')\n",
    "for i in range(rows*columns):\n",
    "    if i % 2 == 0:\n",
    "        #ind = indices[i]\n",
    "        ind = int(i/2)\n",
    "        image_gt = label2rgb_3D(pc[ind], image_stack[ind, :, :], alpha=0.3)\n",
    "        image_pred = label2rgb_3D(gt[ind], image_stack[ind, :, :], alpha=0.3)\n",
    "        \n",
    "        axes[int(i/columns), i%columns].imshow(image_gt)\n",
    "        axes[int(i/columns), i%columns].grid(False)\n",
    "        axes[int(i/columns), i%columns].axes.get_xaxis().set_visible(False)\n",
    "        axes[int(i/columns), i%columns].axes.get_yaxis().set_visible(False)\n",
    "        i += 1\n",
    "        axes[int(i/columns), i%columns].imshow(image_pred)\n",
    "        axes[int(i/columns), i%columns].grid(False)\n",
    "        axes[int(i/columns), i%columns].axes.get_xaxis().set_visible(False)\n",
    "        axes[int(i/columns), i%columns].axes.get_yaxis().set_visible(False)\n",
    "    else:\n",
    "        continue\n",
    "plt.tight_layout()\n",
    "plt.savefig('2P_Planes_PyC_visualized.png')"
   ]
  },
  {
   "cell_type": "code",
   "execution_count": 40,
   "id": "dc893bd3",
   "metadata": {},
   "outputs": [],
   "source": [
    "#plt.savefig('2P_Planes_Vol.png')"
   ]
  },
  {
   "cell_type": "code",
   "execution_count": 22,
   "id": "ce4eb4f3",
   "metadata": {},
   "outputs": [
    {
     "data": {
      "application/vnd.jupyter.widget-view+json": {
       "model_id": "cb2caa2b8d904ac7953fa24e1e58b27a",
       "version_major": 2,
       "version_minor": 0
      },
      "text/plain": [
       "Canvas(toolbar=Toolbar(toolitems=[('Home', 'Reset original view', 'home', 'home'), ('Back', 'Back to previous …"
      ]
     },
     "metadata": {},
     "output_type": "display_data"
    }
   ],
   "source": [
    "import matplotlib.animation as animation\n",
    "from CellAnalysis.utils import gray2rgb\n",
    "\n",
    "\n",
    "\n",
    "\n",
    "sns.set()\n",
    "fig = plt.figure(figsize=(20, 8.5))\n",
    "fig.suptitle('Two-Photon Functional Planes - Neuronal Cell Body Segmentation Results', fontsize=24)\n",
    "font_size=12\n",
    "gs = GridSpec(2, 5, figure=fig)\n",
    "ax1 = fig.add_subplot(gs[:, :2])\n",
    "ax2 = fig.add_subplot(gs[0, 2])\n",
    "ax3 = fig.add_subplot(gs[0, 4:6])\n",
    "ax4 = fig.add_subplot(gs[1, 4:6])\n",
    "#ax4 = fig.add_subplot(gs[0, 4])\n",
    "ax5 = fig.add_subplot(gs[0, 3])\n",
    "ax6 = fig.add_subplot(gs[1, 2])\n",
    "ax7 = fig.add_subplot(gs[1, 3])\n",
    "\n",
    "best_benchmark.plot_ap_curves(ax1, fontsize=12)\n",
    "ax1.set_title('Average Precision across IoU thresholds')\n",
    "\n",
    "ax2 = best_benchmark.plot_error_bars(ax2, metric='mAP @ 0.5:0.95', title='mean Average Precision (mAP) @ 0.5:0.95', fontsize=font_size, set_legend=True, legend_loc='upper left')\n",
    "#ax3 = benchmark_best.plot_error_bars(ax3, metric='AP @ 0.5', title='Average Precision (AP) @ 0.5', fontsize=font_size, set_legend=True)\n",
    "#ax4 = benchmark_best.plot_error_bars(ax4, metric='AP @ 0.75', title='Average Precision (AP) @ 0.75', fontsize=font_size, set_legend=True, legend_loc='lower left')\n",
    "ax2.set_ylim([0.0, 1.1])\n",
    "#ax3.set_ylim([0.0, 1.2])\n",
    "#ax4.set_ylim([0.0, 1.2])\n",
    "\n",
    "ax5 = best_benchmark.plot_error_bars(ax5, metric='adc', title='ADC', fontsize=font_size, set_legend=False, legend_loc='upper left')\n",
    "ax6 = best_benchmark.plot_error_bars(ax6, metric='adpc', title='ADPC (FN Error)', fontsize=font_size, set_legend=True, legend_loc='upper right')\n",
    "ax7 = best_benchmark.plot_error_bars(ax7, metric='adgc', title='ADGC (FP Error)', fontsize=font_size, set_legend=True, legend_loc='upper left')\n",
    "ax5.set_ylim([0.0, 10.0])\n",
    "ax6.set_ylim([0.0, 10.0])\n",
    "ax7.set_ylim([0.0, 10.0])\n",
    "\n",
    "ax5.set_ylabel('Euclidean Distance [µm]', fontsize=font_size)\n",
    "mpl.rcParams['xtick.labelsize'] = 12\n",
    "mpl.rcParams['ytick.labelsize'] = 12\n",
    "\n",
    "ax3.set_xticks([])\n",
    "ax3.set_yticks([])\n",
    "#ax3.set_title('Cellpose Segmentation Results')\n",
    "ax3.grid(False)\n",
    "\n",
    "ax4.set_xticks([])\n",
    "ax4.set_yticks([])\n",
    "#ax3.set_title('Cellpose Segmentation Results')\n",
    "ax4.grid(False)\n",
    "\n",
    "\n",
    "vol_1 = gray2rgb(image_stack[2])\n",
    "image_pred = label2rgb_3D(sd_500[2], image_stack[2, :, :], alpha=0.2)\n",
    "image_gt = label2rgb_3D(gt[2], image_stack[2, :, :], alpha=0.2)\n",
    "image_list_1 = [vol_1, image_gt, vol_1, image_pred]\n",
    "#title_list = ['Raw Image', 'Ground Truth Mask', 'Raw Image', 'Stardist Prediction Mask']\n",
    "\n",
    "vol_2 = gray2rgb(image_stack[23])\n",
    "image_pred = label2rgb_3D(sd_500[23], image_stack[23, :, :], alpha=0.2)\n",
    "image_gt = label2rgb_3D(gt[23], image_stack[23, :, :], alpha=0.2)\n",
    "image_list_2 = [vol_2, image_gt, vol_2, image_pred]\n",
    "title_list = ['Raw Image', 'Ground Truth Mask', 'Raw Image', 'Stardist Prediction Mask']\n",
    "\n",
    "\n",
    "container = []\n",
    "for i in range(30):\n",
    "    for im1, im2, title in zip(image_list_1, image_list_2, title_list):\n",
    "        #ax3.set_title(title, fontsize=font_size)\n",
    "        image1 = ax3.imshow(im1, animated=True)\n",
    "        text_title1 = ax3.text(0.5,1.05, '{}'.format(title), \n",
    "                        size=plt.rcParams[\"axes.titlesize\"],\n",
    "                        ha=\"center\", transform=ax3.transAxes, )\n",
    "        image2 = ax4.imshow(im2, animated=True)\n",
    "        text_title2 = ax4.text(0.5,1.05, '{}'.format(title), \n",
    "                        size=plt.rcParams[\"axes.titlesize\"],\n",
    "                        ha=\"center\", transform=ax4.transAxes, )\n",
    "        container.append([image1, text_title1, image2, text_title2])\n",
    "\n",
    "\n",
    "ani = animation.ArtistAnimation(fig, container, interval=2000, repeat=True, repeat_delay=0, blit=True)\n",
    "plt.tight_layout()\n",
    "\n",
    "#plt.savefig('EM.png')\n",
    "\n",
    "\n",
    "# ims is a list of lists, each row is a list of artists to draw in the\n",
    "# current frame; here we are just animating one artist, the image, in\n",
    "# each frame\n",
    "\n",
    "Writer = animation.writers['ffmpeg']\n",
    "writer = Writer(fps=0.2, metadata=dict(artist='Me'), bitrate=1800)\n",
    "#ani.save('2P_animation.gif', writer='imagemagick', fps=0.5)\n",
    "ani.save('2P_animation.mp4', writer=writer)\n"
   ]
  },
  {
   "cell_type": "code",
   "execution_count": 26,
   "id": "1c41fa91",
   "metadata": {},
   "outputs": [],
   "source": [
    "from CellAnalysis.utils import gray2rgb\n",
    "vol_2 = image_stack[2]\n",
    "image_gt = label2rgb_3D(sd_500[2], image_stack[2, :, :], alpha=0.2)\n",
    "image_pred = label2rgb_3D(gt[2], image_stack[2, :, :], alpha=0.2)\n",
    "\n",
    "io.imsave('volume.tif', gray2rgb(vol_2))\n",
    "io.imsave('gt.tif', image_gt)\n",
    "io.imsave('pred.tif', image_pred)"
   ]
  },
  {
   "cell_type": "code",
   "execution_count": null,
   "id": "a33e86b4",
   "metadata": {},
   "outputs": [],
   "source": []
  }
 ],
 "metadata": {
  "kernelspec": {
   "display_name": "Python 3",
   "language": "python",
   "name": "python3"
  },
  "language_info": {
   "codemirror_mode": {
    "name": "ipython",
    "version": 3
   },
   "file_extension": ".py",
   "mimetype": "text/x-python",
   "name": "python",
   "nbconvert_exporter": "python",
   "pygments_lexer": "ipython3",
   "version": "3.7.0"
  }
 },
 "nbformat": 4,
 "nbformat_minor": 5
}
