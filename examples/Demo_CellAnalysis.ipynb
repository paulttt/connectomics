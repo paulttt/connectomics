{
 "cells": [
  {
   "cell_type": "markdown",
   "id": "ff5905d3",
   "metadata": {},
   "source": [
    "# Demo of Evaluation and Benchmarking Functionalities"
   ]
  },
  {
   "cell_type": "markdown",
   "id": "655ef091",
   "metadata": {},
   "source": [
    "The following examples have been vastly implemented in functions in the file CellAnalysis/eval.py, CellAnalysis/adc_metric.py and in the modified package mAP_3Dvolume that has been forked from https://github.com/ygCoconut/mAP_3Dvolume. "
   ]
  },
  {
   "cell_type": "code",
   "execution_count": 1,
   "id": "c1c3188d",
   "metadata": {},
   "outputs": [],
   "source": [
    "import os\n",
    "import sys\n",
    "path = os.path.dirname(os.path.abspath(\"\"))+\"/\"\n",
    "sys.path.append(path)"
   ]
  },
  {
   "cell_type": "code",
   "execution_count": null,
   "id": "dc869e85",
   "metadata": {},
   "outputs": [],
   "source": [
    "from CellAnalysis.eval import benchmark\n",
    "import matplotlib.pyplot as plt"
   ]
  },
  {
   "cell_type": "code",
   "execution_count": null,
   "id": "00539c97",
   "metadata": {},
   "outputs": [],
   "source": [
    "from CellAnalysis.eval import benchmark\n",
    "import os\n",
    "\n",
    "path = os.path.dirname(os.path.abspath(\"\"))+\"/\"\n",
    "file_root = path + 'example_data/benchmark/EM Data'\n",
    "benchmark = benchmark(file_root, resolution=(0.51, 0.51, 0.51))"
   ]
  },
  {
   "cell_type": "code",
   "execution_count": null,
   "id": "313b7e11",
   "metadata": {},
   "outputs": [],
   "source": [
    "benchmark.summarize(title='Electron Microscopy - Neuronal Cell Body Segmentation Results', save_to_file='EM_Results', error_bands=True, figsize=(24, 9))"
   ]
  },
  {
   "cell_type": "code",
   "execution_count": null,
   "id": "d0cf1e19",
   "metadata": {},
   "outputs": [],
   "source": [
    "benchmark.plot_ap_curves(error_band=True)"
   ]
  },
  {
   "cell_type": "code",
   "execution_count": null,
   "id": "9127e82a",
   "metadata": {},
   "outputs": [],
   "source": [
    "fig, (ax1, ax2, ax3) = plt.subplots(1, 3, figsize=(14,6), sharey=True)\n",
    "\n",
    "ax1 = benchmark.plot_error_bars(ax=ax1, metric='adc', legend_font_size=12)\n",
    "ax2 = benchmark.plot_error_bars(ax=ax2, metric='adpc', legend_font_size=13)\n",
    "ax3 = benchmark.plot_error_bars(ax=ax3, metric='adgc', legend_font_size=14)"
   ]
  },
  {
   "cell_type": "code",
   "execution_count": null,
   "id": "85e4d341",
   "metadata": {},
   "outputs": [],
   "source": [
    "benchmark.show_adc_scores()"
   ]
  },
  {
   "cell_type": "code",
   "execution_count": null,
   "id": "f3ff6c7b",
   "metadata": {},
   "outputs": [],
   "source": [
    "benchmark.plot_error_bars(metric='AP @ 0.9')"
   ]
  },
  {
   "cell_type": "code",
   "execution_count": null,
   "id": "95ab9bf2",
   "metadata": {},
   "outputs": [],
   "source": [
    "from CellAnalysis.eval import evaluate"
   ]
  },
  {
   "cell_type": "code",
   "execution_count": null,
   "id": "704037a4",
   "metadata": {},
   "outputs": [],
   "source": [
    "file_root = path + 'example_data/evaluate/EM Data'\n",
    "evala = evaluate(file_root, resolution=(0.51, 0.51, 0.51))"
   ]
  },
  {
   "cell_type": "code",
   "execution_count": null,
   "id": "f95a8c83",
   "metadata": {},
   "outputs": [],
   "source": [
    "evala.summarize(figsize=(24, 8), error_bands=True, title='Evaluation of Cellpose Segmentation on EM Data')"
   ]
  },
  {
   "cell_type": "code",
   "execution_count": null,
   "id": "b6ce44ab",
   "metadata": {},
   "outputs": [],
   "source": [
    "import seaborn as sns\n",
    "fig, ax = plt.subplots(figsize=(15, 9))\n",
    "sns.set()\n",
    "evala.box_plots(ax, legend_font_size=14, legend_loc='upper left')\n",
    "plt.show()"
   ]
  },
  {
   "cell_type": "code",
   "execution_count": null,
   "id": "0313a67a",
   "metadata": {},
   "outputs": [],
   "source": []
  },
  {
   "cell_type": "code",
   "execution_count": null,
   "id": "be2070e0",
   "metadata": {},
   "outputs": [],
   "source": []
  },
  {
   "cell_type": "code",
   "execution_count": null,
   "id": "713c3ae7",
   "metadata": {},
   "outputs": [],
   "source": []
  },
  {
   "cell_type": "code",
   "execution_count": null,
   "id": "4f2bff59",
   "metadata": {},
   "outputs": [],
   "source": []
  }
 ],
 "metadata": {
  "kernelspec": {
   "display_name": "Python 3",
   "language": "python",
   "name": "python3"
  },
  "language_info": {
   "codemirror_mode": {
    "name": "ipython",
    "version": 3
   },
   "file_extension": ".py",
   "mimetype": "text/x-python",
   "name": "python",
   "nbconvert_exporter": "python",
   "pygments_lexer": "ipython3",
   "version": "3.7.0"
  }
 },
 "nbformat": 4,
 "nbformat_minor": 5
}
