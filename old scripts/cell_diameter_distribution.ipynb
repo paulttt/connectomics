{
 "cells": [
  {
   "cell_type": "code",
   "execution_count": 4,
   "metadata": {},
   "outputs": [],
   "source": [
    "import numpy as np\n",
    "from PIL import Image\n",
    "from skimage import io\n",
    "import glob"
   ]
  },
  {
   "cell_type": "code",
   "execution_count": 55,
   "metadata": {},
   "outputs": [
    {
     "name": "stdout",
     "output_type": "stream",
     "text": [
      "volume shape:  (650, 1414, 251)\n"
     ]
    }
   ],
   "source": [
    "# edit your path here\n",
    "path = 'data/cellpose_segmentation/augmented_prediction/40kV_DR_reslice_180deg_ROI_8bits_z300z550_cp_masks/*.tif'\n",
    "\n",
    "im_collection = io.imread_collection(path, plugin='tifffile')\n",
    "volume = np.dstack(im_collection)\n",
    "\n",
    "print('volume shape: ', volume.shape)"
   ]
  },
  {
   "cell_type": "code",
   "execution_count": 56,
   "metadata": {},
   "outputs": [],
   "source": [
    "properties = regionprops(volume)\n",
    "diameter = np.zeros((len(properties), 2))\n",
    "for i, p in enumerate(properties):\n",
    "    min_y, min_x, min_z, max_y, max_x, max_z = p.bbox\n",
    "    diameter[i, 0] = p.label\n",
    "    diameter[i, 1] = max(max_x - min_x, max_y - min_y, max_z - min_z)  "
   ]
  },
  {
   "cell_type": "code",
   "execution_count": 57,
   "metadata": {},
   "outputs": [
    {
     "data": {
      "image/png": "[encoded data removed]",
      "text/plain": [
       "<Figure size 432x288 with 1 Axes>"
      ]
     },
     "metadata": {
      "needs_background": "light"
     },
     "output_type": "display_data"
    }
   ],
   "source": [
    "bins = np.unique(diameter[:,1])\n",
    "fig = plt.figure()\n",
    "plt.hist(diameter[:, 1], bins = bins) \n",
    "plt.title(\"histogram: cell diameter\")\n",
    "plt.xlabel('diameter bins [voxel size]')\n",
    "plt.show()\n",
    "fig.savefig('cell_diameter_distribution.jpg')"
   ]
  },
  {
   "cell_type": "code",
   "execution_count": null,
   "metadata": {},
   "outputs": [],
   "source": []
  }
 ],
 "metadata": {
  "kernelspec": {
   "display_name": "Python 3",
   "language": "python",
   "name": "python3"
  },
  "language_info": {
   "codemirror_mode": {
    "name": "ipython",
    "version": 3
   },
   "file_extension": ".py",
   "mimetype": "text/x-python",
   "name": "python",
   "nbconvert_exporter": "python",
   "pygments_lexer": "ipython3",
   "version": "3.8.5"
  }
 },
 "nbformat": 4,
 "nbformat_minor": 4
}
