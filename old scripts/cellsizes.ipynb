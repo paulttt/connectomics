{
 "cells": [
  {
   "cell_type": "code",
   "execution_count": 84,
   "metadata": {},
   "outputs": [],
   "source": [
    "from skimage import io\n",
    "import numpy as np\n",
    "from imageio import volread,volwrite\n",
    "\n",
    "seg = io.imread('40kV_DR_reslice_180deg_ROI_8bits_z300z550_cp_masks.tif')\n",
    "sz = seg.shape"
   ]
  },
  {
   "cell_type": "code",
   "execution_count": 115,
   "metadata": {},
   "outputs": [
    {
     "name": "stdout",
     "output_type": "stream",
     "text": [
      "(251, 650, 1414)\n"
     ]
    }
   ],
   "source": [
    "print(sz)"
   ]
  },
  {
   "cell_type": "code",
   "execution_count": 86,
   "metadata": {},
   "outputs": [],
   "source": [
    "unique_elements,counts_elements = np.unique(seg,return_counts=True)"
   ]
  },
  {
   "cell_type": "code",
   "execution_count": 87,
   "metadata": {},
   "outputs": [
    {
     "name": "stdout",
     "output_type": "stream",
     "text": [
      "Frequency of unique values of the said array:\n",
      "[[        0         1         2 ...     50772     50773     50774]\n",
      " [160871542        32        75 ...       260       165        50]]\n"
     ]
    }
   ],
   "source": [
    "print(\"Frequency of unique values of the said array:\")\n",
    "print(np.asarray((unique_elements, counts_elements)))"
   ]
  },
  {
   "cell_type": "code",
   "execution_count": 18,
   "metadata": {},
   "outputs": [
    {
     "data": {
      "image/png": "[encoded data removed]",
      "text/plain": [
       "<Figure size 432x288 with 1 Axes>"
      ]
     },
     "metadata": {
      "needs_background": "light"
     },
     "output_type": "display_data"
    }
   ],
   "source": [
    "import matplotlib.pyplot as plt\n",
    "counts_elementstemp=counts_elements\n",
    "plt.hist(counts_elementstemp, bins=500,range=[1, 4000])\n",
    "plt.show()\n"
   ]
  },
  {
   "cell_type": "code",
   "execution_count": 137,
   "metadata": {},
   "outputs": [
    {
     "data": {
      "text/plain": [
       "17200"
      ]
     },
     "execution_count": 137,
     "metadata": {},
     "output_type": "execute_result"
    }
   ],
   "source": [
    "toolarge= np.where(counts_elements > 5000)\n",
    "toosmall = np.where(counts_elements < 900)\n",
    "#900 is equivalent to a 6pixel radius\n",
    "np.size(toosmall)\n"
   ]
  },
  {
   "cell_type": "code",
   "execution_count": 138,
   "metadata": {},
   "outputs": [
    {
     "data": {
      "text/plain": [
       "(169, 3)"
      ]
     },
     "execution_count": 138,
     "metadata": {},
     "output_type": "execute_result"
    }
   ],
   "source": [
    "var=np.argwhere(seg==132)\n",
    "np.shape(var)"
   ]
  },
  {
   "cell_type": "code",
   "execution_count": 146,
   "metadata": {},
   "outputs": [
    {
     "data": {
      "text/plain": [
       "array([140, 140, 140, 140, 140, 140, 140, 140, 140, 140, 140, 140, 140,\n",
       "       140, 140, 140, 140, 140, 140, 140, 140, 140, 140, 140, 140, 140,\n",
       "       140, 140, 140, 140, 140, 140, 140, 140, 140, 140, 140, 140, 140,\n",
       "       140, 140, 140, 140, 140, 140, 140, 140, 140, 140, 140, 140, 140,\n",
       "       140, 140, 140, 140, 140, 140, 140, 140, 140, 140, 140, 140, 140,\n",
       "       140, 140, 140, 140, 140, 140, 140, 140, 140, 140, 140, 140, 140,\n",
       "       140, 140, 140, 140, 140, 140, 140, 140, 140, 140, 140, 140, 140,\n",
       "       140, 140, 140, 140, 140, 140, 140, 140, 140, 140, 140, 140, 140,\n",
       "       140, 140, 140, 140, 140, 140, 140, 140, 140, 140, 140, 140, 140,\n",
       "       140, 140, 140, 140, 140, 140, 140, 140, 140, 140, 140, 140, 140,\n",
       "       140, 140, 140, 140, 140, 140, 140, 140, 140, 140, 140, 140, 140,\n",
       "       140, 140, 140, 140], dtype=uint16)"
      ]
     },
     "execution_count": 146,
     "metadata": {},
     "output_type": "execute_result"
    }
   ],
   "source": [
    "seg[seg==140]"
   ]
  },
  {
   "cell_type": "code",
   "execution_count": null,
   "metadata": {},
   "outputs": [
    {
     "name": "stdout",
     "output_type": "stream",
     "text": [
      "0\n",
      "7237\n",
      "7299\n",
      "8220\n",
      "8958\n",
      "11353\n",
      "11511\n",
      "20781\n",
      "21291\n",
      "22285\n",
      "22498\n",
      "23341\n",
      "23596\n",
      "25079\n",
      "26871\n",
      "28637\n",
      "31102\n",
      "31233\n",
      "34891\n",
      "35811\n",
      "36029\n"
     ]
    }
   ],
   "source": [
    "for idx in np.nditer(toolarge):\n",
    "    #np.where(seg==idx,0,seg)\n",
    "    seg=np.where(seg==idx, 0, seg) \n",
    "    print(idx)"
   ]
  },
  {
   "cell_type": "code",
   "execution_count": 149,
   "metadata": {},
   "outputs": [
    {
     "name": "stdout",
     "output_type": "stream",
     "text": [
      "[[        0         1         2 ...     50772     50773     50774]\n",
      " [160961603        32        75 ...       260       165        50]]\n"
     ]
    },
    {
     "data": {
      "image/png": "[encoded data removed]",
      "text/plain": [
       "<Figure size 432x288 with 1 Axes>"
      ]
     },
     "metadata": {
      "needs_background": "light"
     },
     "output_type": "display_data"
    }
   ],
   "source": [
    "unique_elements,counts_elements = np.unique(seg,return_counts=True)\n",
    "print(np.asarray((unique_elements, counts_elements)))\n",
    "plt.hist(counts_elementstemp, bins=500,range=[1, 10000])\n",
    "plt.show()"
   ]
  },
  {
   "cell_type": "code",
   "execution_count": 143,
   "metadata": {},
   "outputs": [
    {
     "name": "stdout",
     "output_type": "stream",
     "text": [
      "[[        0         1         2 ...     50772     50773     50774]\n",
      " [160961603        32        75 ...       260       165        50]]\n"
     ]
    },
    {
     "data": {
      "image/png": "[encoded data removed]",
      "text/plain": [
       "<Figure size 432x288 with 1 Axes>"
      ]
     },
     "metadata": {
      "needs_background": "light"
     },
     "output_type": "display_data"
    }
   ],
   "source": [
    "unique_elements,counts_elements = np.unique(seg,return_counts=True)\n",
    "print(np.asarray((unique_elements, counts_elements)))\n",
    "plt.hist(counts_elementstemp, bins=500,range=[1, 10000])\n",
    "plt.show()"
   ]
  },
  {
   "cell_type": "code",
   "execution_count": 127,
   "metadata": {},
   "outputs": [
    {
     "name": "stdout",
     "output_type": "stream",
     "text": [
      "[[        0         1         2 ...     50772     50773     50774]\n",
      " [160908164        32        75 ...       260       165        50]]\n"
     ]
    },
    {
     "data": {
      "image/png": "[encoded data removed]",
      "text/plain": [
       "<Figure size 432x288 with 1 Axes>"
      ]
     },
     "metadata": {
      "needs_background": "light"
     },
     "output_type": "display_data"
    }
   ],
   "source": [
    "unique_elements,counts_elements = np.unique(segtemp,return_counts=True)\n",
    "print(np.asarray((unique_elements, counts_elements)))\n",
    "plt.hist(counts_elementstemp, bins=500,range=[1, 10000])\n",
    "plt.show()"
   ]
  },
  {
   "cell_type": "code",
   "execution_count": 143,
   "metadata": {},
   "outputs": [
    {
     "name": "stdout",
     "output_type": "stream",
     "text": [
      "[[        0         1         2 ...     50772     50773     50774]\n",
      " [160961603        32        75 ...       260       165        50]]\n"
     ]
    },
    {
     "data": {
      "image/png": "[encoded data removed]",
      "text/plain": [
       "<Figure size 432x288 with 1 Axes>"
      ]
     },
     "metadata": {
      "needs_background": "light"
     },
     "output_type": "display_data"
    }
   ],
   "source": [
    "unique_elements,counts_elements = np.unique(seg,return_counts=True)\n",
    "print(np.asarray((unique_elements, counts_elements)))\n",
    "plt.hist(counts_elementstemp, bins=500,range=[1, 10000])\n",
    "plt.show()"
   ]
  },
  {
   "cell_type": "code",
   "execution_count": null,
   "metadata": {},
   "outputs": [],
   "source": [
    "from math import sqrt\n",
    "from joblib import Parallel, delayed\n",
    "\n",
    "def clean(idx,segtemp):\n",
    "    segtemp[segtemp == idx] = 0 \n",
    "\n",
    "Parallel(n_jobs=12)(delayed(clean(idx,segtemp) for idx in np.nditer(toosmall))"
   ]
  },
  {
   "cell_type": "code",
   "execution_count": null,
   "metadata": {},
   "outputs": [],
   "source": [
    "from PIL import Image\n",
    "im.save(\"test2.tiff\", \"TIFF\")"
   ]
  }
 ],
 "metadata": {
  "kernelspec": {
   "display_name": "Python 3",
   "language": "python",
   "name": "python3"
  },
  "language_info": {
   "codemirror_mode": {
    "name": "ipython",
    "version": 3
   },
   "file_extension": ".py",
   "mimetype": "text/x-python",
   "name": "python",
   "nbconvert_exporter": "python",
   "pygments_lexer": "ipython3",
   "version": "3.8.3"
  }
 },
 "nbformat": 4,
 "nbformat_minor": 4
}
